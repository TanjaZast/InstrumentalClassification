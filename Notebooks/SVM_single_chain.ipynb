{
 "cells": [
  {
   "cell_type": "code",
   "execution_count": 1,
   "id": "2f0a0587-391f-4f1d-97b4-5a8e17946342",
   "metadata": {},
   "outputs": [],
   "source": [
    "from sklearn.neural_network import MLPClassifier\n",
    "import numpy as np\n",
    "from sklearn.model_selection import train_test_split\n",
    "from sklearn.multioutput import ClassifierChain\n",
    "from sklearn.metrics import jaccard_score, multilabel_confusion_matrix, accuracy_score\n",
    "import matplotlib.pyplot as plt\n",
    "from sklearn.multiclass import OneVsRestClassifier\n",
    "from sklearn.model_selection import cross_val_score\n",
    "from sklearn.model_selection import cross_validate\n",
    "from sklearn import preprocessing\n",
    "from skopt import BayesSearchCV\n",
    "from sklearn.base import BaseEstimator, ClassifierMixin\n",
    "import librosa\n",
    "import librosa.display\n",
    "import librosa.feature\n",
    "import IPython.display as ipd\n",
    "from sklearn.svm import SVC"
   ]
  },
  {
   "cell_type": "code",
   "execution_count": 2,
   "id": "c15aa4d0-4156-4b3c-9092-5fe4502a5fe8",
   "metadata": {},
   "outputs": [],
   "source": [
    "x = np.load('../Part1.npy')\n",
    "Y_t = np.load('../train.npy/y_train.npy')\n",
    "#X_train = (x-np.min(x))/(np.max(x)-np.min(x))\n",
    "xt = np.load('../Part2.npy')\n",
    "Y_test = np.load('../test.npy/Y_Test.npy')\n",
    "#X_test = (xt-np.min(xt))/(np.max(xt)-np.min(xt))\n",
    "x_add = np.load('../Part3.npy')\n",
    "y_add = np.load('../additional.npy/Y_additional.npy')\n",
    "#x_add = (x_add-np.min(x_add))/(np.max(x_add)-np.min(x_add))\n",
    "Y_train = np.concatenate((Y_t, Y_test, y_add))\n",
    "X_train = np.concatenate((x, xt, x_add))\n",
    "#X_train = (X_train-np.min(X_train))/(np.max(X_train)-np.min(X_train))\n",
    "scaler = preprocessing.StandardScaler().fit(X_train)\n",
    "X_train = scaler.transform(X_train)"
   ]
  },
  {
   "cell_type": "code",
   "execution_count": 3,
   "id": "a039d2ad-9c88-41fb-9e5f-82622c67d771",
   "metadata": {},
   "outputs": [],
   "source": [
    "X_test = np.load('X_single.npy')\n",
    "Y_test = np.load('Y_single.npy')"
   ]
  },
  {
   "cell_type": "code",
   "execution_count": 4,
   "id": "16d63cc0-ecee-4c79-b4c2-c2535e069801",
   "metadata": {},
   "outputs": [],
   "source": [
    "import warnings\n",
    "warnings.filterwarnings(\"ignore\")\n",
    "svm = SVC(C=0.15, tol=0.041, kernel='poly', coef0=0.79, degree=6)\n",
    "chains = [ClassifierChain(svm, order=\"random\", random_state=i) for i in range(10)]\n",
    "for chain in chains:\n",
    "    chain.fit(X_train, Y_train)\n",
    "\n",
    "Y_pred_chains = np.array([chain.predict(X_test) for chain in chains])\n",
    "chain_jaccard_scores = [\n",
    "    jaccard_score(Y_test, Y_pred_chain >= 0.5, average=\"samples\")\n",
    "    for Y_pred_chain in Y_pred_chains\n",
    "]\n",
    "\n",
    "Y_pred_max = Y_pred_chains.max(axis=0)"
   ]
  },
  {
   "cell_type": "code",
   "execution_count": 5,
   "id": "a3d4c2d5-bf28-488b-9aeb-44a6baab91f3",
   "metadata": {},
   "outputs": [
    {
     "name": "stdout",
     "output_type": "stream",
     "text": [
      "[[[6316    1]\n",
      "  [ 387    1]]\n",
      "\n",
      " [[ 129 6071]\n",
      "  [   5  500]]\n",
      "\n",
      " [[6254    0]\n",
      "  [ 451    0]]\n",
      "\n",
      " [[  73 5995]\n",
      "  [  34  603]]\n",
      "\n",
      " [[5945    0]\n",
      "  [ 760    0]]\n",
      "\n",
      " [[6023    0]\n",
      "  [ 682    0]]\n",
      "\n",
      " [[5984    0]\n",
      "  [ 721    0]]\n",
      "\n",
      " [[   0 6079]\n",
      "  [   0  626]]\n",
      "\n",
      " [[5026 1102]\n",
      "  [ 461  116]]\n",
      "\n",
      " [[6125    0]\n",
      "  [ 580    0]]\n",
      "\n",
      " [[   0 5927]\n",
      "  [   0  778]]]\n"
     ]
    }
   ],
   "source": [
    "Y_pred_ensemble = Y_pred_chains.mean(axis=0)\n",
    "Y_pred = np.where(Y_pred_ensemble>0.5,1,0)\n",
    "m = multilabel_confusion_matrix(Y_test, Y_pred)\n",
    "print(m)"
   ]
  },
  {
   "cell_type": "code",
   "execution_count": 6,
   "id": "0b0be6db-ab2e-4975-8b09-c51999fa50fb",
   "metadata": {},
   "outputs": [
    {
     "name": "stdout",
     "output_type": "stream",
     "text": [
      "2624 25175 41875 4081\n"
     ]
    }
   ],
   "source": [
    "tp = sum(m[:,1,1])\n",
    "fp = sum(m[:,0,1])\n",
    "tn = sum(m[:,0,0])\n",
    "fn = sum(m[:,1,0])\n",
    "print(tp, fp, tn, fn)"
   ]
  },
  {
   "cell_type": "code",
   "execution_count": 7,
   "id": "98690c92-fe88-4d86-8158-9e7be1c9d8b7",
   "metadata": {},
   "outputs": [
    {
     "name": "stdout",
     "output_type": "stream",
     "text": [
      "[0.5        0.07609192        nan 0.09139133        nan        nan\n",
      "        nan 0.09336316 0.0952381         nan 0.11603281]\n"
     ]
    }
   ],
   "source": [
    "precision = np.array([x[1,1]/(x[1,1]+x[0,1]) for x in m])\n",
    "recall = np.array([x[1,1]/(x[1,1]+x[1,0]) for x in m])\n",
    "f1 = 2*precision*recall/(precision+recall)\n",
    "print(precision)"
   ]
  },
  {
   "cell_type": "code",
   "execution_count": 8,
   "id": "777995d0-b3e2-4013-be9a-643721f9a7d6",
   "metadata": {},
   "outputs": [
    {
     "data": {
      "text/plain": [
       "array([0.00257732, 0.99009901, 0.        , 0.9466248 , 0.        ,\n",
       "       0.        , 0.        , 1.        , 0.20103986, 0.        ,\n",
       "       1.        ])"
      ]
     },
     "execution_count": 8,
     "metadata": {},
     "output_type": "execute_result"
    }
   ],
   "source": [
    "recall"
   ]
  },
  {
   "cell_type": "code",
   "execution_count": 9,
   "id": "4672456a-bb05-4bf8-a53f-d19438989505",
   "metadata": {},
   "outputs": [
    {
     "data": {
      "text/plain": [
       "array([0.00512821, 0.14132278,        nan, 0.1666897 ,        nan,\n",
       "              nan,        nan, 0.17078161, 0.12924791,        nan,\n",
       "       0.20793799])"
      ]
     },
     "execution_count": 9,
     "metadata": {},
     "output_type": "execute_result"
    }
   ],
   "source": [
    "f1"
   ]
  },
  {
   "cell_type": "code",
   "execution_count": 10,
   "id": "d960d9ef-1361-4a1c-bb64-0a997599d7f5",
   "metadata": {},
   "outputs": [
    {
     "data": {
      "text/html": [
       "<style>#sk-container-id-1 {color: black;background-color: white;}#sk-container-id-1 pre{padding: 0;}#sk-container-id-1 div.sk-toggleable {background-color: white;}#sk-container-id-1 label.sk-toggleable__label {cursor: pointer;display: block;width: 100%;margin-bottom: 0;padding: 0.3em;box-sizing: border-box;text-align: center;}#sk-container-id-1 label.sk-toggleable__label-arrow:before {content: \"▸\";float: left;margin-right: 0.25em;color: #696969;}#sk-container-id-1 label.sk-toggleable__label-arrow:hover:before {color: black;}#sk-container-id-1 div.sk-estimator:hover label.sk-toggleable__label-arrow:before {color: black;}#sk-container-id-1 div.sk-toggleable__content {max-height: 0;max-width: 0;overflow: hidden;text-align: left;background-color: #f0f8ff;}#sk-container-id-1 div.sk-toggleable__content pre {margin: 0.2em;color: black;border-radius: 0.25em;background-color: #f0f8ff;}#sk-container-id-1 input.sk-toggleable__control:checked~div.sk-toggleable__content {max-height: 200px;max-width: 100%;overflow: auto;}#sk-container-id-1 input.sk-toggleable__control:checked~label.sk-toggleable__label-arrow:before {content: \"▾\";}#sk-container-id-1 div.sk-estimator input.sk-toggleable__control:checked~label.sk-toggleable__label {background-color: #d4ebff;}#sk-container-id-1 div.sk-label input.sk-toggleable__control:checked~label.sk-toggleable__label {background-color: #d4ebff;}#sk-container-id-1 input.sk-hidden--visually {border: 0;clip: rect(1px 1px 1px 1px);clip: rect(1px, 1px, 1px, 1px);height: 1px;margin: -1px;overflow: hidden;padding: 0;position: absolute;width: 1px;}#sk-container-id-1 div.sk-estimator {font-family: monospace;background-color: #f0f8ff;border: 1px dotted black;border-radius: 0.25em;box-sizing: border-box;margin-bottom: 0.5em;}#sk-container-id-1 div.sk-estimator:hover {background-color: #d4ebff;}#sk-container-id-1 div.sk-parallel-item::after {content: \"\";width: 100%;border-bottom: 1px solid gray;flex-grow: 1;}#sk-container-id-1 div.sk-label:hover label.sk-toggleable__label {background-color: #d4ebff;}#sk-container-id-1 div.sk-serial::before {content: \"\";position: absolute;border-left: 1px solid gray;box-sizing: border-box;top: 0;bottom: 0;left: 50%;z-index: 0;}#sk-container-id-1 div.sk-serial {display: flex;flex-direction: column;align-items: center;background-color: white;padding-right: 0.2em;padding-left: 0.2em;position: relative;}#sk-container-id-1 div.sk-item {position: relative;z-index: 1;}#sk-container-id-1 div.sk-parallel {display: flex;align-items: stretch;justify-content: center;background-color: white;position: relative;}#sk-container-id-1 div.sk-item::before, #sk-container-id-1 div.sk-parallel-item::before {content: \"\";position: absolute;border-left: 1px solid gray;box-sizing: border-box;top: 0;bottom: 0;left: 50%;z-index: -1;}#sk-container-id-1 div.sk-parallel-item {display: flex;flex-direction: column;z-index: 1;position: relative;background-color: white;}#sk-container-id-1 div.sk-parallel-item:first-child::after {align-self: flex-end;width: 50%;}#sk-container-id-1 div.sk-parallel-item:last-child::after {align-self: flex-start;width: 50%;}#sk-container-id-1 div.sk-parallel-item:only-child::after {width: 0;}#sk-container-id-1 div.sk-dashed-wrapped {border: 1px dashed gray;margin: 0 0.4em 0.5em 0.4em;box-sizing: border-box;padding-bottom: 0.4em;background-color: white;}#sk-container-id-1 div.sk-label label {font-family: monospace;font-weight: bold;display: inline-block;line-height: 1.2em;}#sk-container-id-1 div.sk-label-container {text-align: center;}#sk-container-id-1 div.sk-container {/* jupyter's `normalize.less` sets `[hidden] { display: none; }` but bootstrap.min.css set `[hidden] { display: none !important; }` so we also need the `!important` here to be able to override the default hidden behavior on the sphinx rendered scikit-learn.org. See: https://github.com/scikit-learn/scikit-learn/issues/21755 */display: inline-block !important;position: relative;}#sk-container-id-1 div.sk-text-repr-fallback {display: none;}</style><div id=\"sk-container-id-1\" class=\"sk-top-container\"><div class=\"sk-text-repr-fallback\"><pre>OneVsRestClassifier(estimator=SVC(C=0.15, coef0=0.79, degree=6, kernel=&#x27;poly&#x27;,\n",
       "                                  tol=0.041))</pre><b>In a Jupyter environment, please rerun this cell to show the HTML representation or trust the notebook. <br />On GitHub, the HTML representation is unable to render, please try loading this page with nbviewer.org.</b></div><div class=\"sk-container\" hidden><div class=\"sk-item sk-dashed-wrapped\"><div class=\"sk-label-container\"><div class=\"sk-label sk-toggleable\"><input class=\"sk-toggleable__control sk-hidden--visually\" id=\"sk-estimator-id-1\" type=\"checkbox\" ><label for=\"sk-estimator-id-1\" class=\"sk-toggleable__label sk-toggleable__label-arrow\">OneVsRestClassifier</label><div class=\"sk-toggleable__content\"><pre>OneVsRestClassifier(estimator=SVC(C=0.15, coef0=0.79, degree=6, kernel=&#x27;poly&#x27;,\n",
       "                                  tol=0.041))</pre></div></div></div><div class=\"sk-parallel\"><div class=\"sk-parallel-item\"><div class=\"sk-item\"><div class=\"sk-label-container\"><div class=\"sk-label sk-toggleable\"><input class=\"sk-toggleable__control sk-hidden--visually\" id=\"sk-estimator-id-2\" type=\"checkbox\" ><label for=\"sk-estimator-id-2\" class=\"sk-toggleable__label sk-toggleable__label-arrow\">estimator: SVC</label><div class=\"sk-toggleable__content\"><pre>SVC(C=0.15, coef0=0.79, degree=6, kernel=&#x27;poly&#x27;, tol=0.041)</pre></div></div></div><div class=\"sk-serial\"><div class=\"sk-item\"><div class=\"sk-estimator sk-toggleable\"><input class=\"sk-toggleable__control sk-hidden--visually\" id=\"sk-estimator-id-3\" type=\"checkbox\" ><label for=\"sk-estimator-id-3\" class=\"sk-toggleable__label sk-toggleable__label-arrow\">SVC</label><div class=\"sk-toggleable__content\"><pre>SVC(C=0.15, coef0=0.79, degree=6, kernel=&#x27;poly&#x27;, tol=0.041)</pre></div></div></div></div></div></div></div></div></div></div>"
      ],
      "text/plain": [
       "OneVsRestClassifier(estimator=SVC(C=0.15, coef0=0.79, degree=6, kernel='poly',\n",
       "                                  tol=0.041))"
      ]
     },
     "execution_count": 10,
     "metadata": {},
     "output_type": "execute_result"
    }
   ],
   "source": [
    "ovr = OneVsRestClassifier(svm)\n",
    "ovr.fit(X_train, Y_train)"
   ]
  },
  {
   "cell_type": "code",
   "execution_count": 11,
   "id": "05128427-7130-4c01-8913-e5c38b3cd697",
   "metadata": {},
   "outputs": [],
   "source": [
    "ovr_pred = ovr.predict(X_test)"
   ]
  },
  {
   "cell_type": "code",
   "execution_count": 12,
   "id": "f619547d-c150-423b-a0e3-c900806610c4",
   "metadata": {},
   "outputs": [],
   "source": [
    "M_ovr = multilabel_confusion_matrix(Y_test, ovr_pred)"
   ]
  },
  {
   "cell_type": "code",
   "execution_count": 13,
   "id": "8b972c0c-fcc3-4421-853b-32f36a989bb2",
   "metadata": {},
   "outputs": [
    {
     "data": {
      "text/plain": [
       "array([[[6317,    0],\n",
       "        [ 388,    0]],\n",
       "\n",
       "       [[5616,  584],\n",
       "        [ 498,    7]],\n",
       "\n",
       "       [[6254,    0],\n",
       "        [ 451,    0]],\n",
       "\n",
       "       [[  80, 5988],\n",
       "        [  37,  600]],\n",
       "\n",
       "       [[5945,    0],\n",
       "        [ 760,    0]],\n",
       "\n",
       "       [[6003,   20],\n",
       "        [ 676,    6]],\n",
       "\n",
       "       [[5984,    0],\n",
       "        [ 721,    0]],\n",
       "\n",
       "       [[   0, 6079],\n",
       "        [   0,  626]],\n",
       "\n",
       "       [[3966, 2162],\n",
       "        [ 301,  276]],\n",
       "\n",
       "       [[6125,    0],\n",
       "        [ 580,    0]],\n",
       "\n",
       "       [[   0, 5927],\n",
       "        [   0,  778]]])"
      ]
     },
     "execution_count": 13,
     "metadata": {},
     "output_type": "execute_result"
    }
   ],
   "source": [
    "M_ovr"
   ]
  },
  {
   "cell_type": "code",
   "execution_count": 14,
   "id": "6ae64088-0f2a-4f61-9fa3-f4d775ae138f",
   "metadata": {},
   "outputs": [
    {
     "data": {
      "image/png": "[encoded data removed]",
      "text/plain": [
       "<Figure size 1000x600 with 1 Axes>"
      ]
     },
     "metadata": {},
     "output_type": "display_data"
    }
   ],
   "source": [
    "import matplotlib.pyplot as plt\n",
    "import numpy as np\n",
    "\n",
    "fig, ax = plt.subplots(figsize=(10, 6))\n",
    "x_ax = [\"Cello\",\"Clarinet\", \"Flute\", \"Guitar\", \"E-Guitar\", \"Organ\", \"Piano\", \"Saxophone\", \"Trumpet\", \"Violin\", \"Voice\"]\n",
    "x = np.arange(len(precision))  # the label locations\n",
    "width = 0.2  # the width of the bars\n",
    "rects1 = ax.bar(x - width, precision, width, label='Precision')\n",
    "rects2 = ax.bar(x, recall, width, label='Recall')\n",
    "rects3 = ax.bar(x + width, f1, width, label='F1-Score')\n",
    "ax.set_ylabel('Scores')\n",
    "ax.set_title('Precision, Recall, and F1-Score for each instrument with SVM, single chain')\n",
    "ax.set_xticks(x)\n",
    "ax.set_xticklabels([i for i in x_ax])\n",
    "ax.legend()\n",
    "fig.tight_layout()\n",
    "plt.savefig('ScoresSVMsingle.png')\n",
    "plt.show()"
   ]
  },
  {
   "cell_type": "code",
   "execution_count": null,
   "id": "6b49cb87-0620-4b92-9c1f-9c8335977aeb",
   "metadata": {},
   "outputs": [],
   "source": []
  }
 ],
 "metadata": {
  "kernelspec": {
   "display_name": "Python 3 (ipykernel)",
   "language": "python",
   "name": "python3"
  },
  "language_info": {
   "codemirror_mode": {
    "name": "ipython",
    "version": 3
   },
   "file_extension": ".py",
   "mimetype": "text/x-python",
   "name": "python",
   "nbconvert_exporter": "python",
   "pygments_lexer": "ipython3",
   "version": "3.10.3"
  }
 },
 "nbformat": 4,
 "nbformat_minor": 5
}
