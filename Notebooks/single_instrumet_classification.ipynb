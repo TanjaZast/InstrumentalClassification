{
 "cells": [
  {
   "cell_type": "code",
   "execution_count": 1,
   "id": "97986804-df8d-429b-b581-011f4c1ff6be",
   "metadata": {},
   "outputs": [],
   "source": [
    "from sklearn.neural_network import MLPClassifier\n",
    "import numpy as np\n",
    "from sklearn.model_selection import train_test_split\n",
    "from sklearn.multioutput import ClassifierChain\n",
    "from sklearn.metrics import jaccard_score, multilabel_confusion_matrix\n",
    "import matplotlib.pyplot as plt\n",
    "from sklearn.multiclass import OneVsRestClassifier\n",
    "from sklearn.model_selection import cross_val_score\n",
    "from sklearn.model_selection import cross_validate\n",
    "from sklearn import preprocessing\n",
    "from skopt import BayesSearchCV\n",
    "from sklearn.base import BaseEstimator, ClassifierMixin\n",
    "import librosa\n",
    "import librosa.display\n",
    "import librosa.feature\n",
    "import IPython.display as ipd"
   ]
  },
  {
   "cell_type": "code",
   "execution_count": 9,
   "id": "f0a88d7e-150a-4450-871c-8235062a7656",
   "metadata": {},
   "outputs": [],
   "source": [
    "x = np.load('../Part1.npy')\n",
    "Y_t = np.load('../train.npy/y_train.npy')\n",
    "#X_train = (x-np.min(x))/(np.max(x)-np.min(x))\n",
    "xt = np.load('../Part2.npy')\n",
    "Y_test = np.load('../test.npy/Y_Test.npy')\n",
    "#X_test = (xt-np.min(xt))/(np.max(xt)-np.min(xt))\n",
    "x_add = np.load('../Part3.npy')\n",
    "y_add = np.load('../additional.npy/Y_additional.npy')\n",
    "#x_add = (x_add-np.min(x_add))/(np.max(x_add)-np.min(x_add))\n",
    "Y_train = np.concatenate((Y_t, Y_test, y_add))\n",
    "X_train = np.concatenate((x, xt, x_add))\n",
    "#X_train = (X_train-np.min(X_train))/(np.max(X_train)-np.min(X_train))\n",
    "scaler = preprocessing.StandardScaler().fit(X_train)\n",
    "X_train = scaler.transform(X_train)"
   ]
  },
  {
   "cell_type": "code",
   "execution_count": 10,
   "id": "c7de991c-90b6-4d0a-956c-710af2f893c7",
   "metadata": {},
   "outputs": [
    {
     "data": {
      "text/plain": [
       "(2874, 11)"
      ]
     },
     "execution_count": 10,
     "metadata": {},
     "output_type": "execute_result"
    }
   ],
   "source": [
    "X_train.shape"
   ]
  },
  {
   "cell_type": "code",
   "execution_count": 15,
   "id": "948c99fa-82eb-4c7b-b880-f46ff65e508a",
   "metadata": {},
   "outputs": [],
   "source": [
    "#IRMAS-TrainingData/cel/[cel][pop_roc]0143__3.wav\n",
    "instruments = ['cel/','cla/','flu/','gac/','gel/','org/','pia/','sax/','tru/','vio/','voi/']\n",
    "pathAudio = \"../IRMAS-TrainingData/\"\n",
    "X_test = []\n",
    "Y_test = []\n",
    "cnt = 0\n",
    "for i in instruments:\n",
    "    label = np.zeros(11)\n",
    "    label[cnt] = 1\n",
    "    cnt +=1\n",
    "    #print(pathAudio + i)\n",
    "    files = librosa.util.find_files(pathAudio + i, ext=['wav'], recurse=False) \n",
    "    files = np.asarray(files)\n",
    "    #print(files)\n",
    "    for y in files:\n",
    "        #print(test)\n",
    "        y, sr = librosa.load(y)\n",
    "        mfcc = librosa.feature.mfcc(y=y, sr=sr)\n",
    "        rolloff = librosa.feature.spectral_rolloff(y=y, sr=sr)\n",
    "        rolloff = np.mean(rolloff)\n",
    "        bw = librosa.feature.spectral_bandwidth(y=y, sr=sr)\n",
    "        bw = np.mean(bw)\n",
    "        ctr = librosa.feature.spectral_centroid(y=y, sr=sr)\n",
    "        ctr = np.mean(ctr)\n",
    "        zcr = librosa.feature.zero_crossing_rate(y=y)\n",
    "        zcr = np.mean(zcr)\n",
    "        mfcc = np.mean(mfcc, axis=1)\n",
    "        mfcc = mfcc[:13]\n",
    "        mfcc = np.append(mfcc, [rolloff, bw, ctr, zcr])\n",
    "        X_test.append(mfcc)\n",
    "        Y_test.append(label)"
   ]
  },
  {
   "cell_type": "code",
   "execution_count": 16,
   "id": "af1cdbae-b773-4545-98b6-0265b6a9e2ca",
   "metadata": {},
   "outputs": [
    {
     "data": {
      "text/plain": [
       "(6705, 17)"
      ]
     },
     "execution_count": 16,
     "metadata": {},
     "output_type": "execute_result"
    }
   ],
   "source": [
    "np.array(X_test).shape"
   ]
  },
  {
   "cell_type": "code",
   "execution_count": 17,
   "id": "6d4dd016-a6cf-4407-b22b-1ebbae28dd45",
   "metadata": {},
   "outputs": [],
   "source": [
    "mlp = MLPClassifier(activation = 'identity',hidden_layer_sizes = [100] ,solver = 'lbfgs',alpha = 0.00003, batch_size = 50,\n",
    "                    learning_rate_init=0.058, max_iter = 114, warm_start=True)\n",
    "chains = [ClassifierChain(mlp, order=\"random\", random_state=i) for i in range(10)]\n",
    "for chain in chains:\n",
    "    chain.fit(X_train, Y_train)"
   ]
  },
  {
   "cell_type": "code",
   "execution_count": 18,
   "id": "9d2a30ab-3db6-4c97-96c4-a6b7e5de3679",
   "metadata": {},
   "outputs": [],
   "source": [
    "Y_pred_chains = np.array([chain.predict(X_test) for chain in chains])\n",
    "chain_jaccard_scores = [\n",
    "    jaccard_score(Y_test, Y_pred_chain >= 0.5, average=\"samples\")\n",
    "    for Y_pred_chain in Y_pred_chains\n",
    "]\n",
    "\n",
    "Y_pred_max = Y_pred_chains.max(axis=0)"
   ]
  },
  {
   "cell_type": "code",
   "execution_count": 19,
   "id": "b95bbb1d-059a-49a8-a895-4ef6891f4851",
   "metadata": {},
   "outputs": [
    {
     "data": {
      "text/plain": [
       "[0.08023365647526721,\n",
       " 0.08074571215510812,\n",
       " 0.07933276517169136,\n",
       " 0.07993040019885657,\n",
       " 0.07873513014452613,\n",
       " 0.08020879940343027,\n",
       " 0.07817193991690635,\n",
       " 0.08025851354710414,\n",
       " 0.08006569368985476,\n",
       " 0.08128511061396969]"
      ]
     },
     "execution_count": 19,
     "metadata": {},
     "output_type": "execute_result"
    }
   ],
   "source": [
    "chain_jaccard_scores"
   ]
  },
  {
   "cell_type": "code",
   "execution_count": 20,
   "id": "eff55378-5212-4d53-8dc7-349ad4b4d04f",
   "metadata": {},
   "outputs": [],
   "source": [
    "m = multilabel_confusion_matrix(Y_test, Y_pred_chains[4])"
   ]
  },
  {
   "cell_type": "code",
   "execution_count": 21,
   "id": "97bc26f2-264a-4abb-8952-3b52aedc9588",
   "metadata": {},
   "outputs": [
    {
     "data": {
      "text/plain": [
       "array([[[ 308, 6009],\n",
       "        [  35,  353]],\n",
       "\n",
       "       [[ 261, 5939],\n",
       "        [   7,  498]],\n",
       "\n",
       "       [[  91, 6163],\n",
       "        [  11,  440]],\n",
       "\n",
       "       [[6068,    0],\n",
       "        [ 637,    0]],\n",
       "\n",
       "       [[5945,    0],\n",
       "        [ 760,    0]],\n",
       "\n",
       "       [[   1, 6022],\n",
       "        [   0,  682]],\n",
       "\n",
       "       [[   0, 5984],\n",
       "        [   0,  721]],\n",
       "\n",
       "       [[6079,    0],\n",
       "        [ 626,    0]],\n",
       "\n",
       "       [[4886, 1242],\n",
       "        [ 512,   65]],\n",
       "\n",
       "       [[6067,   58],\n",
       "        [ 580,    0]],\n",
       "\n",
       "       [[5093,  834],\n",
       "        [ 775,    3]]], dtype=int64)"
      ]
     },
     "execution_count": 21,
     "metadata": {},
     "output_type": "execute_result"
    }
   ],
   "source": [
    "m"
   ]
  },
  {
   "cell_type": "code",
   "execution_count": null,
   "id": "c0eec21e-98d1-453f-b49f-cccfa6be9901",
   "metadata": {},
   "outputs": [],
   "source": []
  }
 ],
 "metadata": {
  "kernelspec": {
   "display_name": "Python 3 (ipykernel)",
   "language": "python",
   "name": "python3"
  },
  "language_info": {
   "codemirror_mode": {
    "name": "ipython",
    "version": 3
   },
   "file_extension": ".py",
   "mimetype": "text/x-python",
   "name": "python",
   "nbconvert_exporter": "python",
   "pygments_lexer": "ipython3",
   "version": "3.10.11"
  }
 },
 "nbformat": 4,
 "nbformat_minor": 5
}
