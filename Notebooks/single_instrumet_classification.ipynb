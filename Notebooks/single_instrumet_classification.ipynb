{
 "cells": [
  {
   "cell_type": "code",
   "execution_count": 5,
   "id": "97986804-df8d-429b-b581-011f4c1ff6be",
   "metadata": {},
   "outputs": [],
   "source": [
    "from sklearn.neural_network import MLPClassifier\n",
    "import numpy as np\n",
    "from sklearn.model_selection import train_test_split\n",
    "from sklearn.multioutput import ClassifierChain\n",
    "from sklearn.metrics import jaccard_score, multilabel_confusion_matrix\n",
    "import matplotlib.pyplot as plt\n",
    "from sklearn.multiclass import OneVsRestClassifier\n",
    "from sklearn.model_selection import cross_val_score\n",
    "from sklearn.model_selection import cross_validate\n",
    "from sklearn import preprocessing\n",
    "from skopt import BayesSearchCV\n",
    "from sklearn.base import BaseEstimator, ClassifierMixin\n",
    "import librosa\n",
    "import librosa.display\n",
    "import librosa.feature\n",
    "import IPython.display as ipd"
   ]
  },
  {
   "cell_type": "code",
   "execution_count": 6,
   "id": "f0a88d7e-150a-4450-871c-8235062a7656",
   "metadata": {},
   "outputs": [],
   "source": [
    "x = np.load('../Part1.npy')\n",
    "Y_t = np.load('../train.npy/y_train.npy')\n",
    "#X_train = (x-np.min(x))/(np.max(x)-np.min(x))\n",
    "xt = np.load('../Part2.npy')\n",
    "Y_test = np.load('../test.npy/Y_Test.npy')\n",
    "#X_test = (xt-np.min(xt))/(np.max(xt)-np.min(xt))\n",
    "x_add = np.load('../Part3.npy')\n",
    "y_add = np.load('../additional.npy/Y_additional.npy')\n",
    "#x_add = (x_add-np.min(x_add))/(np.max(x_add)-np.min(x_add))\n",
    "Y_train = np.concatenate((Y_t, Y_test, y_add))\n",
    "X_train = np.concatenate((x, xt, x_add))\n",
    "#X_train = (X_train-np.min(X_train))/(np.max(X_train)-np.min(X_train))\n",
    "scaler = preprocessing.StandardScaler().fit(X_train)\n",
    "X_train = scaler.transform(X_train)"
   ]
  },
  {
   "cell_type": "code",
   "execution_count": 7,
   "id": "c7de991c-90b6-4d0a-956c-710af2f893c7",
   "metadata": {},
   "outputs": [
    {
     "data": {
      "text/plain": [
       "(2874, 17)"
      ]
     },
     "execution_count": 7,
     "metadata": {},
     "output_type": "execute_result"
    }
   ],
   "source": [
    "X_train.shape"
   ]
  },
  {
   "cell_type": "code",
   "execution_count": 4,
   "id": "948c99fa-82eb-4c7b-b880-f46ff65e508a",
   "metadata": {},
   "outputs": [],
   "source": [
    "#IRMAS-TrainingData/cel/[cel][pop_roc]0143__3.wav\n",
    "instruments = ['cel/','cla/','flu/','gac/','gel/','org/','pia/','sax/','tru/','vio/','voi/']\n",
    "pathAudio = \"../IRMAS-TrainingData/\"\n",
    "X_test = []\n",
    "Y_test = []\n",
    "cnt = 0\n",
    "for i in instruments:\n",
    "    label = np.zeros(11)\n",
    "    label[cnt] = 1\n",
    "    cnt +=1\n",
    "    #print(pathAudio + i)\n",
    "    files = librosa.util.find_files(pathAudio + i, ext=['wav'], recurse=False) \n",
    "    files = np.asarray(files)\n",
    "    #print(files)\n",
    "    for y in files:\n",
    "        #print(test)\n",
    "        y, sr = librosa.load(y)\n",
    "        mfcc = librosa.feature.mfcc(y=y, sr=sr)\n",
    "        rolloff = librosa.feature.spectral_rolloff(y=y, sr=sr)\n",
    "        rolloff = np.mean(rolloff)\n",
    "        bw = librosa.feature.spectral_bandwidth(y=y, sr=sr)\n",
    "        bw = np.mean(bw)\n",
    "        ctr = librosa.feature.spectral_centroid(y=y, sr=sr)\n",
    "        ctr = np.mean(ctr)\n",
    "        zcr = librosa.feature.zero_crossing_rate(y=y)\n",
    "        zcr = np.mean(zcr)\n",
    "        mfcc = np.mean(mfcc, axis=1)\n",
    "        mfcc = mfcc[:13]\n",
    "        mfcc = np.append(mfcc, [rolloff, bw, ctr, zcr])\n",
    "        X_test.append(mfcc)\n",
    "        Y_test.append(label)"
   ]
  },
  {
   "cell_type": "code",
   "execution_count": 8,
   "id": "93c02db8-66fb-479a-bf69-55a686083164",
   "metadata": {},
   "outputs": [],
   "source": [
    "X_test = np.load('X_single.npy')\n",
    "Y_test = np.load('Y_single.npy')"
   ]
  },
  {
   "cell_type": "code",
   "execution_count": 9,
   "id": "af1cdbae-b773-4545-98b6-0265b6a9e2ca",
   "metadata": {},
   "outputs": [
    {
     "data": {
      "text/plain": [
       "(6705, 17)"
      ]
     },
     "execution_count": 9,
     "metadata": {},
     "output_type": "execute_result"
    }
   ],
   "source": [
    "np.array(X_test).shape"
   ]
  },
  {
   "cell_type": "code",
   "execution_count": 10,
   "id": "6d4dd016-a6cf-4407-b22b-1ebbae28dd45",
   "metadata": {},
   "outputs": [],
   "source": [
    "mlp = MLPClassifier(activation = 'identity',hidden_layer_sizes = [100] ,solver = 'lbfgs',alpha = 0.00003, batch_size = 50,\n",
    "                    learning_rate_init=0.058, max_iter = 114, warm_start=True)\n",
    "chains = [ClassifierChain(mlp, order=\"random\", random_state=i) for i in range(10)]\n",
    "for chain in chains:\n",
    "    chain.fit(X_train, Y_train)"
   ]
  },
  {
   "cell_type": "code",
   "execution_count": 11,
   "id": "9d2a30ab-3db6-4c97-96c4-a6b7e5de3679",
   "metadata": {},
   "outputs": [],
   "source": [
    "Y_pred_chains = np.array([chain.predict(X_test) for chain in chains])\n",
    "chain_jaccard_scores = [\n",
    "    jaccard_score(Y_test, Y_pred_chain >= 0.5, average=\"samples\")\n",
    "    for Y_pred_chain in Y_pred_chains\n",
    "]\n",
    "\n",
    "Y_pred_ensemble = Y_pred_chains.mean(axis=0)"
   ]
  },
  {
   "cell_type": "code",
   "execution_count": 12,
   "id": "b95bbb1d-059a-49a8-a895-4ef6891f4851",
   "metadata": {},
   "outputs": [
    {
     "data": {
      "text/plain": [
       "[0.08036823976421291,\n",
       " 0.08089236887894607,\n",
       " 0.07936046305173822,\n",
       " 0.07997017151379568,\n",
       " 0.07856432655090373,\n",
       " 0.07977877206065127,\n",
       " 0.07885817265011895,\n",
       " 0.07997052661482192,\n",
       " 0.07988423706544512,\n",
       " 0.08158623628422287]"
      ]
     },
     "execution_count": 12,
     "metadata": {},
     "output_type": "execute_result"
    }
   ],
   "source": [
    "chain_jaccard_scores"
   ]
  },
  {
   "cell_type": "code",
   "execution_count": 13,
   "id": "bce09396-7c5d-4d50-a814-94d970115788",
   "metadata": {},
   "outputs": [],
   "source": [
    "Y_pred = np.where(Y_pred_ensemble>0.5,1,0)"
   ]
  },
  {
   "cell_type": "code",
   "execution_count": 14,
   "id": "bb838c55-ee96-49d2-b87f-585eb753d5cd",
   "metadata": {},
   "outputs": [
    {
     "data": {
      "text/plain": [
       "array([[1, 1, 1, ..., 0, 0, 0],\n",
       "       [1, 1, 1, ..., 0, 0, 0],\n",
       "       [1, 1, 1, ..., 0, 0, 0],\n",
       "       ...,\n",
       "       [1, 1, 1, ..., 0, 0, 0],\n",
       "       [1, 1, 1, ..., 0, 0, 0],\n",
       "       [1, 1, 1, ..., 0, 0, 0]])"
      ]
     },
     "execution_count": 14,
     "metadata": {},
     "output_type": "execute_result"
    }
   ],
   "source": [
    "Y_pred"
   ]
  },
  {
   "cell_type": "code",
   "execution_count": 15,
   "id": "41fdd973-f5e9-4497-95a9-297cecbe45f2",
   "metadata": {},
   "outputs": [],
   "source": [
    "m = multilabel_confusion_matrix(Y_test, Y_pred)"
   ]
  },
  {
   "cell_type": "code",
   "execution_count": 16,
   "id": "a332a90d-dedf-445f-acba-674045099161",
   "metadata": {},
   "outputs": [
    {
     "data": {
      "text/plain": [
       "array([[[ 557, 5760],\n",
       "        [  59,  329]],\n",
       "\n",
       "       [[ 331, 5869],\n",
       "        [  11,  494]],\n",
       "\n",
       "       [[  94, 6160],\n",
       "        [  11,  440]],\n",
       "\n",
       "       [[6068,    0],\n",
       "        [ 637,    0]],\n",
       "\n",
       "       [[5875,   70],\n",
       "        [ 746,   14]],\n",
       "\n",
       "       [[   0, 6023],\n",
       "        [   0,  682]],\n",
       "\n",
       "       [[   0, 5984],\n",
       "        [   0,  721]],\n",
       "\n",
       "       [[6079,    0],\n",
       "        [ 626,    0]],\n",
       "\n",
       "       [[6128,    0],\n",
       "        [ 577,    0]],\n",
       "\n",
       "       [[6125,    0],\n",
       "        [ 580,    0]],\n",
       "\n",
       "       [[5246,  681],\n",
       "        [ 775,    3]]], dtype=int64)"
      ]
     },
     "execution_count": 16,
     "metadata": {},
     "output_type": "execute_result"
    }
   ],
   "source": [
    "m"
   ]
  },
  {
   "cell_type": "code",
   "execution_count": 21,
   "id": "8062c676-515e-43b3-9f3c-0ef4664a0aed",
   "metadata": {},
   "outputs": [
    {
     "name": "stderr",
     "output_type": "stream",
     "text": [
      "C:\\Users\\jonat\\AppData\\Local\\Temp\\ipykernel_16104\\2312814414.py:1: RuntimeWarning: invalid value encountered in longlong_scalars\n",
      "  precision = [x[1,1]/(x[1,1]+x[0,1]) for x in m]\n"
     ]
    }
   ],
   "source": [
    "precision = [x[1,1]/(x[1,1]+x[0,1]) for x in m]"
   ]
  },
  {
   "cell_type": "code",
   "execution_count": 22,
   "id": "56e3e728-2e48-4388-a092-730b6783f233",
   "metadata": {},
   "outputs": [
    {
     "data": {
      "text/plain": [
       "[0.054031860732468386,\n",
       " 0.07763633506207764,\n",
       " 0.06666666666666667,\n",
       " nan,\n",
       " 0.16666666666666666,\n",
       " 0.10171513795674869,\n",
       " 0.1075316927665921,\n",
       " nan,\n",
       " nan,\n",
       " nan,\n",
       " 0.0043859649122807015]"
      ]
     },
     "execution_count": 22,
     "metadata": {},
     "output_type": "execute_result"
    }
   ],
   "source": [
    "precision"
   ]
  },
  {
   "cell_type": "code",
   "execution_count": 24,
   "id": "babd8c03-c5a6-4632-8264-a60241fd4414",
   "metadata": {},
   "outputs": [],
   "source": [
    "recall = np.array([x[1,1]/(x[1,1]+x[1,0]) for x in m])\n"
   ]
  },
  {
   "cell_type": "code",
   "execution_count": 25,
   "id": "5b32605a-ea6b-4fc1-b389-ad9909d65736",
   "metadata": {},
   "outputs": [
    {
     "data": {
      "text/plain": [
       "array([0.84793814, 0.97821782, 0.97560976, 0.        , 0.01842105,\n",
       "       1.        , 1.        , 0.        , 0.        , 0.        ,\n",
       "       0.00385604])"
      ]
     },
     "execution_count": 25,
     "metadata": {},
     "output_type": "execute_result"
    }
   ],
   "source": [
    "recall"
   ]
  },
  {
   "cell_type": "code",
   "execution_count": 28,
   "id": "1372978d-60a5-4a11-8d63-bd15ca0b9689",
   "metadata": {},
   "outputs": [
    {
     "data": {
      "text/plain": [
       "array([0.10159024, 0.14385556, 0.12480499,        nan, 0.03317536,\n",
       "       0.18464871, 0.1941826 ,        nan,        nan,        nan,\n",
       "       0.00410397])"
      ]
     },
     "execution_count": 28,
     "metadata": {},
     "output_type": "execute_result"
    }
   ],
   "source": [
    "f1 = 2*(precision*recall/(precision+recall))\n",
    "f1"
   ]
  },
  {
   "cell_type": "code",
   "execution_count": 29,
   "id": "ef00ec85-4d90-4d5a-96a8-f48d3900be3c",
   "metadata": {},
   "outputs": [],
   "source": [
    "np.save(open('X_single.npy', 'wb'), X_test)"
   ]
  },
  {
   "cell_type": "code",
   "execution_count": 30,
   "id": "8a3514ce-70c9-4419-9c78-58060e78de65",
   "metadata": {},
   "outputs": [],
   "source": [
    "np.save(open('Y_single.npy', 'wb'), Y_test)"
   ]
  },
  {
   "cell_type": "code",
   "execution_count": null,
   "id": "244c5f0b-a525-4457-a304-fa3196038172",
   "metadata": {},
   "outputs": [],
   "source": []
  }
 ],
 "metadata": {
  "kernelspec": {
   "display_name": "Python 3 (ipykernel)",
   "language": "python",
   "name": "python3"
  },
  "language_info": {
   "codemirror_mode": {
    "name": "ipython",
    "version": 3
   },
   "file_extension": ".py",
   "mimetype": "text/x-python",
   "name": "python",
   "nbconvert_exporter": "python",
   "pygments_lexer": "ipython3",
   "version": "3.10.11"
  }
 },
 "nbformat": 4,
 "nbformat_minor": 5
}
