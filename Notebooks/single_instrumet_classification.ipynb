{
 "cells": [
  {
   "cell_type": "code",
   "execution_count": 1,
   "id": "97986804-df8d-429b-b581-011f4c1ff6be",
   "metadata": {},
   "outputs": [],
   "source": [
    "from sklearn.neural_network import MLPClassifier\n",
    "import numpy as np\n",
    "from sklearn.model_selection import train_test_split\n",
    "from sklearn.multioutput import ClassifierChain\n",
    "from sklearn.metrics import jaccard_score, multilabel_confusion_matrix\n",
    "import matplotlib.pyplot as plt\n",
    "from sklearn.multiclass import OneVsRestClassifier\n",
    "from sklearn.model_selection import cross_val_score\n",
    "from sklearn.model_selection import cross_validate\n",
    "from sklearn import preprocessing\n",
    "from skopt import BayesSearchCV\n",
    "from sklearn.base import BaseEstimator, ClassifierMixin\n",
    "import librosa\n",
    "import librosa.display\n",
    "import librosa.feature\n",
    "import IPython.display as ipd"
   ]
  },
  {
   "cell_type": "code",
   "execution_count": 2,
   "id": "f0a88d7e-150a-4450-871c-8235062a7656",
   "metadata": {},
   "outputs": [],
   "source": [
    "x = np.load('../Part1.npy')\n",
    "Y_t = np.load('../train.npy/y_train.npy')\n",
    "#X_train = (x-np.min(x))/(np.max(x)-np.min(x))\n",
    "xt = np.load('../Part2.npy')\n",
    "Y_test = np.load('../test.npy/Y_Test.npy')\n",
    "#X_test = (xt-np.min(xt))/(np.max(xt)-np.min(xt))\n",
    "x_add = np.load('../Part3.npy')\n",
    "y_add = np.load('../additional.npy/Y_additional.npy')\n",
    "#x_add = (x_add-np.min(x_add))/(np.max(x_add)-np.min(x_add))\n",
    "Y_train = np.concatenate((Y_t, Y_test, y_add))\n",
    "X_train = np.concatenate((x, xt, x_add))\n",
    "#X_train = (X_train-np.min(X_train))/(np.max(X_train)-np.min(X_train))\n",
    "scaler = preprocessing.StandardScaler().fit(X_train)\n",
    "X_train = scaler.transform(X_train)"
   ]
  },
  {
   "cell_type": "code",
   "execution_count": 3,
   "id": "c7de991c-90b6-4d0a-956c-710af2f893c7",
   "metadata": {},
   "outputs": [
    {
     "data": {
      "text/plain": [
       "(2874, 17)"
      ]
     },
     "execution_count": 3,
     "metadata": {},
     "output_type": "execute_result"
    }
   ],
   "source": [
    "X_train.shape"
   ]
  },
  {
   "cell_type": "code",
   "execution_count": 4,
   "id": "948c99fa-82eb-4c7b-b880-f46ff65e508a",
   "metadata": {},
   "outputs": [],
   "source": [
    "#IRMAS-TrainingData/cel/[cel][pop_roc]0143__3.wav\n",
    "instruments = ['cel/','cla/','flu/','gac/','gel/','org/','pia/','sax/','tru/','vio/','voi/']\n",
    "pathAudio = \"../IRMAS-TrainingData/\"\n",
    "X_test = []\n",
    "Y_test = []\n",
    "cnt = 0\n",
    "for i in instruments:\n",
    "    label = np.zeros(11)\n",
    "    label[cnt] = 1\n",
    "    cnt +=1\n",
    "    #print(pathAudio + i)\n",
    "    files = librosa.util.find_files(pathAudio + i, ext=['wav'], recurse=False) \n",
    "    files = np.asarray(files)\n",
    "    #print(files)\n",
    "    for y in files:\n",
    "        #print(test)\n",
    "        y, sr = librosa.load(y)\n",
    "        mfcc = librosa.feature.mfcc(y=y, sr=sr)\n",
    "        rolloff = librosa.feature.spectral_rolloff(y=y, sr=sr)\n",
    "        rolloff = np.mean(rolloff)\n",
    "        bw = librosa.feature.spectral_bandwidth(y=y, sr=sr)\n",
    "        bw = np.mean(bw)\n",
    "        ctr = librosa.feature.spectral_centroid(y=y, sr=sr)\n",
    "        ctr = np.mean(ctr)\n",
    "        zcr = librosa.feature.zero_crossing_rate(y=y)\n",
    "        zcr = np.mean(zcr)\n",
    "        mfcc = np.mean(mfcc, axis=1)\n",
    "        mfcc = mfcc[:13]\n",
    "        mfcc = np.append(mfcc, [rolloff, bw, ctr, zcr])\n",
    "        X_test.append(mfcc)\n",
    "        Y_test.append(label)"
   ]
  },
  {
   "cell_type": "code",
   "execution_count": 5,
   "id": "af1cdbae-b773-4545-98b6-0265b6a9e2ca",
   "metadata": {},
   "outputs": [
    {
     "data": {
      "text/plain": [
       "(6705, 17)"
      ]
     },
     "execution_count": 5,
     "metadata": {},
     "output_type": "execute_result"
    }
   ],
   "source": [
    "np.array(X_test).shape"
   ]
  },
  {
   "cell_type": "code",
   "execution_count": 6,
   "id": "6d4dd016-a6cf-4407-b22b-1ebbae28dd45",
   "metadata": {},
   "outputs": [],
   "source": [
    "mlp = MLPClassifier(activation = 'identity',hidden_layer_sizes = [100] ,solver = 'lbfgs',alpha = 0.00003, batch_size = 50,\n",
    "                    learning_rate_init=0.058, max_iter = 114, warm_start=True)\n",
    "chains = [ClassifierChain(mlp, order=\"random\", random_state=i) for i in range(10)]\n",
    "for chain in chains:\n",
    "    chain.fit(X_train, Y_train)"
   ]
  },
  {
   "cell_type": "code",
   "execution_count": 7,
   "id": "9d2a30ab-3db6-4c97-96c4-a6b7e5de3679",
   "metadata": {},
   "outputs": [],
   "source": [
    "Y_pred_chains = np.array([chain.predict(X_test) for chain in chains])\n",
    "chain_jaccard_scores = [\n",
    "    jaccard_score(Y_test, Y_pred_chain >= 0.5, average=\"samples\")\n",
    "    for Y_pred_chain in Y_pred_chains\n",
    "]\n",
    "\n",
    "Y_pred_ensemble = Y_pred_chains.mean(axis=0)"
   ]
  },
  {
   "cell_type": "code",
   "execution_count": 8,
   "id": "b95bbb1d-059a-49a8-a895-4ef6891f4851",
   "metadata": {},
   "outputs": [
    {
     "data": {
      "text/plain": [
       "[0.08014097510741806,\n",
       " 0.08039771314939101,\n",
       " 0.07942225063030434,\n",
       " 0.08,\n",
       " 0.07913213309186463,\n",
       " 0.08014417101665423,\n",
       " 0.0782273356770001,\n",
       " 0.08000142040410496,\n",
       " 0.07970668655232414,\n",
       " 0.08147189375377294]"
      ]
     },
     "execution_count": 8,
     "metadata": {},
     "output_type": "execute_result"
    }
   ],
   "source": [
    "chain_jaccard_scores"
   ]
  },
  {
   "cell_type": "code",
   "execution_count": 9,
   "id": "eff55378-5212-4d53-8dc7-349ad4b4d04f",
   "metadata": {},
   "outputs": [],
   "source": [
    "m = multilabel_confusion_matrix(Y_test, Y_pred_chains[4])"
   ]
  },
  {
   "cell_type": "code",
   "execution_count": 10,
   "id": "97bc26f2-264a-4abb-8952-3b52aedc9588",
   "metadata": {},
   "outputs": [
    {
     "data": {
      "text/plain": [
       "array([[[ 277, 6040],\n",
       "        [  33,  355]],\n",
       "\n",
       "       [[ 266, 5934],\n",
       "        [   8,  497]],\n",
       "\n",
       "       [[  91, 6163],\n",
       "        [  11,  440]],\n",
       "\n",
       "       [[6068,    0],\n",
       "        [ 637,    0]],\n",
       "\n",
       "       [[5945,    0],\n",
       "        [ 760,    0]],\n",
       "\n",
       "       [[   3, 6020],\n",
       "        [   0,  682]],\n",
       "\n",
       "       [[   0, 5984],\n",
       "        [   0,  721]],\n",
       "\n",
       "       [[6079,    0],\n",
       "        [ 626,    0]],\n",
       "\n",
       "       [[5930,  198],\n",
       "        [ 572,    5]],\n",
       "\n",
       "       [[6083,   42],\n",
       "        [ 580,    0]],\n",
       "\n",
       "       [[5053,  874],\n",
       "        [ 775,    3]]], dtype=int64)"
      ]
     },
     "execution_count": 10,
     "metadata": {},
     "output_type": "execute_result"
    }
   ],
   "source": [
    "m"
   ]
  },
  {
   "cell_type": "code",
   "execution_count": 17,
   "id": "c0eec21e-98d1-453f-b49f-cccfa6be9901",
   "metadata": {},
   "outputs": [
    {
     "data": {
      "text/plain": [
       "array([[0.9, 1. , 1. , ..., 0. , 0. , 0. ],\n",
       "       [1. , 1. , 1. , ..., 0. , 0. , 0. ],\n",
       "       [1. , 1. , 1. , ..., 0. , 0. , 0. ],\n",
       "       ...,\n",
       "       [1. , 1. , 1. , ..., 0.3, 0. , 0. ],\n",
       "       [1. , 1. , 1. , ..., 0.3, 0. , 0. ],\n",
       "       [1. , 1. , 1. , ..., 0. , 0. , 0. ]])"
      ]
     },
     "execution_count": 17,
     "metadata": {},
     "output_type": "execute_result"
    }
   ],
   "source": [
    "Y_pred_ensemble"
   ]
  },
  {
   "cell_type": "code",
   "execution_count": 20,
   "id": "bce09396-7c5d-4d50-a814-94d970115788",
   "metadata": {},
   "outputs": [],
   "source": [
    "Y_pred = np.where(Y_pred_ensemble>0.5,1,0)"
   ]
  },
  {
   "cell_type": "code",
   "execution_count": 21,
   "id": "bb838c55-ee96-49d2-b87f-585eb753d5cd",
   "metadata": {},
   "outputs": [
    {
     "data": {
      "text/plain": [
       "array([[1, 1, 1, ..., 0, 0, 0],\n",
       "       [1, 1, 1, ..., 0, 0, 0],\n",
       "       [1, 1, 1, ..., 0, 0, 0],\n",
       "       ...,\n",
       "       [1, 1, 1, ..., 0, 0, 0],\n",
       "       [1, 1, 1, ..., 0, 0, 0],\n",
       "       [1, 1, 1, ..., 0, 0, 0]])"
      ]
     },
     "execution_count": 21,
     "metadata": {},
     "output_type": "execute_result"
    }
   ],
   "source": [
    "Y_pred"
   ]
  },
  {
   "cell_type": "code",
   "execution_count": 22,
   "id": "41fdd973-f5e9-4497-95a9-297cecbe45f2",
   "metadata": {},
   "outputs": [],
   "source": [
    "m2 = multilabel_confusion_matrix(Y_test, Y_pred)"
   ]
  },
  {
   "cell_type": "code",
   "execution_count": 23,
   "id": "a332a90d-dedf-445f-acba-674045099161",
   "metadata": {},
   "outputs": [
    {
     "data": {
      "text/plain": [
       "array([[[ 622, 5695],\n",
       "        [  70,  318]],\n",
       "\n",
       "       [[ 323, 5877],\n",
       "        [  10,  495]],\n",
       "\n",
       "       [[  88, 6166],\n",
       "        [  11,  440]],\n",
       "\n",
       "       [[6068,    0],\n",
       "        [ 637,    0]],\n",
       "\n",
       "       [[5868,   77],\n",
       "        [ 745,   15]],\n",
       "\n",
       "       [[   0, 6023],\n",
       "        [   0,  682]],\n",
       "\n",
       "       [[   0, 5984],\n",
       "        [   0,  721]],\n",
       "\n",
       "       [[6079,    0],\n",
       "        [ 626,    0]],\n",
       "\n",
       "       [[6128,    0],\n",
       "        [ 577,    0]],\n",
       "\n",
       "       [[6125,    0],\n",
       "        [ 580,    0]],\n",
       "\n",
       "       [[5196,  731],\n",
       "        [ 775,    3]]], dtype=int64)"
      ]
     },
     "execution_count": 23,
     "metadata": {},
     "output_type": "execute_result"
    }
   ],
   "source": [
    "m2"
   ]
  },
  {
   "cell_type": "code",
   "execution_count": 24,
   "id": "8062c676-515e-43b3-9f3c-0ef4664a0aed",
   "metadata": {},
   "outputs": [
    {
     "name": "stderr",
     "output_type": "stream",
     "text": [
      "C:\\Users\\jonat\\AppData\\Local\\Temp\\ipykernel_11520\\2312814414.py:1: RuntimeWarning: invalid value encountered in longlong_scalars\n",
      "  precision = [x[1,1]/(x[1,1]+x[0,1]) for x in m]\n"
     ]
    }
   ],
   "source": [
    "precision = [x[1,1]/(x[1,1]+x[0,1]) for x in m]"
   ]
  },
  {
   "cell_type": "code",
   "execution_count": 25,
   "id": "0a7f13ec-dc2c-4480-9f89-e2a571c62c99",
   "metadata": {},
   "outputs": [
    {
     "name": "stderr",
     "output_type": "stream",
     "text": [
      "C:\\Users\\jonat\\AppData\\Local\\Temp\\ipykernel_11520\\986516168.py:1: RuntimeWarning: invalid value encountered in longlong_scalars\n",
      "  precision2 = [x[1,1]/(x[1,1]+x[0,1]) for x in m2]\n"
     ]
    }
   ],
   "source": [
    "precision2 = [x[1,1]/(x[1,1]+x[0,1]) for x in m2]"
   ]
  },
  {
   "cell_type": "code",
   "execution_count": 26,
   "id": "56e3e728-2e48-4388-a092-730b6783f233",
   "metadata": {},
   "outputs": [
    {
     "data": {
      "text/plain": [
       "[0.05551211884284597,\n",
       " 0.07728191572072772,\n",
       " 0.0666363774042102,\n",
       " nan,\n",
       " nan,\n",
       " 0.10176066845717696,\n",
       " 0.1075316927665921,\n",
       " nan,\n",
       " 0.024630541871921183,\n",
       " 0.0,\n",
       " 0.0034207525655644243]"
      ]
     },
     "execution_count": 26,
     "metadata": {},
     "output_type": "execute_result"
    }
   ],
   "source": [
    "precision"
   ]
  },
  {
   "cell_type": "code",
   "execution_count": 27,
   "id": "cc7709a5-d004-4c94-853a-542261a323c8",
   "metadata": {},
   "outputs": [
    {
     "data": {
      "text/plain": [
       "[0.052885414934309,\n",
       " 0.07768361581920905,\n",
       " 0.06660611565243718,\n",
       " nan,\n",
       " 0.16304347826086957,\n",
       " 0.10171513795674869,\n",
       " 0.1075316927665921,\n",
       " nan,\n",
       " nan,\n",
       " nan,\n",
       " 0.004087193460490463]"
      ]
     },
     "execution_count": 27,
     "metadata": {},
     "output_type": "execute_result"
    }
   ],
   "source": [
    "precision2"
   ]
  },
  {
   "cell_type": "code",
   "execution_count": 29,
   "id": "ef00ec85-4d90-4d5a-96a8-f48d3900be3c",
   "metadata": {},
   "outputs": [],
   "source": [
    "np.save(open('X_single.npy', 'wb'), X_test)"
   ]
  },
  {
   "cell_type": "code",
   "execution_count": 30,
   "id": "8a3514ce-70c9-4419-9c78-58060e78de65",
   "metadata": {},
   "outputs": [],
   "source": [
    "np.save(open('Y_single.npy', 'wb'), Y_test)"
   ]
  },
  {
   "cell_type": "code",
   "execution_count": null,
   "id": "244c5f0b-a525-4457-a304-fa3196038172",
   "metadata": {},
   "outputs": [],
   "source": []
  }
 ],
 "metadata": {
  "kernelspec": {
   "display_name": "Python 3 (ipykernel)",
   "language": "python",
   "name": "python3"
  },
  "language_info": {
   "codemirror_mode": {
    "name": "ipython",
    "version": 3
   },
   "file_extension": ".py",
   "mimetype": "text/x-python",
   "name": "python",
   "nbconvert_exporter": "python",
   "pygments_lexer": "ipython3",
   "version": "3.10.11"
  }
 },
 "nbformat": 4,
 "nbformat_minor": 5
}
