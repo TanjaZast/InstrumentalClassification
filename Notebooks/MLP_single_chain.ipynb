{
 "cells": [
  {
   "cell_type": "code",
   "execution_count": 30,
   "id": "97986804-df8d-429b-b581-011f4c1ff6be",
   "metadata": {},
   "outputs": [],
   "source": [
    "from sklearn.neural_network import MLPClassifier\n",
    "import numpy as np\n",
    "from sklearn.model_selection import train_test_split\n",
    "from sklearn.multioutput import ClassifierChain\n",
    "from sklearn.metrics import jaccard_score, multilabel_confusion_matrix, precision_recall_fscore_support\n",
    "import matplotlib.pyplot as plt\n",
    "from sklearn.multiclass import OneVsRestClassifier\n",
    "from sklearn.model_selection import cross_val_score\n",
    "from sklearn.model_selection import cross_validate\n",
    "from sklearn import preprocessing\n",
    "from skopt import BayesSearchCV\n",
    "from sklearn.base import BaseEstimator, ClassifierMixin\n",
    "import librosa\n",
    "import librosa.display\n",
    "import librosa.feature\n",
    "import IPython.display as ipd"
   ]
  },
  {
   "cell_type": "code",
   "execution_count": 31,
   "id": "f0a88d7e-150a-4450-871c-8235062a7656",
   "metadata": {},
   "outputs": [],
   "source": [
    "x = np.load('../Part1.npy')\n",
    "Y_t = np.load('../train.npy/y_train.npy')\n",
    "#X_train = (x-np.min(x))/(np.max(x)-np.min(x))\n",
    "xt = np.load('../Part2.npy')\n",
    "Y_test = np.load('../test.npy/Y_Test.npy')\n",
    "#X_test = (xt-np.min(xt))/(np.max(xt)-np.min(xt))\n",
    "x_add = np.load('../Part3.npy')\n",
    "y_add = np.load('../additional.npy/Y_additional.npy')\n",
    "#x_add = (x_add-np.min(x_add))/(np.max(x_add)-np.min(x_add))\n",
    "Y_train = np.concatenate((Y_t, Y_test, y_add))\n",
    "X_train = np.concatenate((x, xt, x_add))\n",
    "#X_train = (X_train-np.min(X_train))/(np.max(X_train)-np.min(X_train))\n",
    "scaler = preprocessing.StandardScaler().fit(X_train)\n",
    "X_train = scaler.transform(X_train)"
   ]
  },
  {
   "cell_type": "code",
   "execution_count": 32,
   "id": "c7de991c-90b6-4d0a-956c-710af2f893c7",
   "metadata": {},
   "outputs": [
    {
     "data": {
      "text/plain": [
       "(2874, 17)"
      ]
     },
     "execution_count": 32,
     "metadata": {},
     "output_type": "execute_result"
    }
   ],
   "source": [
    "X_train.shape"
   ]
  },
  {
   "cell_type": "code",
   "execution_count": 33,
   "id": "948c99fa-82eb-4c7b-b880-f46ff65e508a",
   "metadata": {},
   "outputs": [],
   "source": [
    "#IRMAS-TrainingData/cel/[cel][pop_roc]0143__3.wav\n",
    "instruments = ['cel/','cla/','flu/','gac/','gel/','org/','pia/','sax/','tru/','vio/','voi/']\n",
    "pathAudio = \"../IRMAS-TrainingData/\"\n",
    "X_test = []\n",
    "Y_test = []\n",
    "cnt = 0\n",
    "for i in instruments:\n",
    "    label = np.zeros(11)\n",
    "    label[cnt] = 1\n",
    "    cnt +=1\n",
    "    #print(pathAudio + i)\n",
    "    files = librosa.util.find_files(pathAudio + i, ext=['wav'], recurse=False) \n",
    "    files = np.asarray(files)\n",
    "    #print(files)\n",
    "    for y in files:\n",
    "        #print(test)\n",
    "        y, sr = librosa.load(y)\n",
    "        mfcc = librosa.feature.mfcc(y=y, sr=sr)\n",
    "        rolloff = librosa.feature.spectral_rolloff(y=y, sr=sr)\n",
    "        rolloff = np.mean(rolloff)\n",
    "        bw = librosa.feature.spectral_bandwidth(y=y, sr=sr)\n",
    "        bw = np.mean(bw)\n",
    "        ctr = librosa.feature.spectral_centroid(y=y, sr=sr)\n",
    "        ctr = np.mean(ctr)\n",
    "        zcr = librosa.feature.zero_crossing_rate(y=y)\n",
    "        zcr = np.mean(zcr)\n",
    "        mfcc = np.mean(mfcc, axis=1)\n",
    "        mfcc = mfcc[:13]\n",
    "        mfcc = np.append(mfcc, [rolloff, bw, ctr, zcr])\n",
    "        X_test.append(mfcc)\n",
    "        Y_test.append(label)"
   ]
  },
  {
   "cell_type": "code",
   "execution_count": 34,
   "id": "93c02db8-66fb-479a-bf69-55a686083164",
   "metadata": {},
   "outputs": [],
   "source": [
    "X_test = np.load('X_single.npy')\n",
    "Y_test = np.load('Y_single.npy')\n",
    "scaler = preprocessing.StandardScaler().fit(X_test)\n",
    "X_test = scaler.transform(X_test)"
   ]
  },
  {
   "cell_type": "code",
   "execution_count": 35,
   "id": "af1cdbae-b773-4545-98b6-0265b6a9e2ca",
   "metadata": {},
   "outputs": [
    {
     "data": {
      "text/plain": [
       "(6705, 17)"
      ]
     },
     "execution_count": 35,
     "metadata": {},
     "output_type": "execute_result"
    }
   ],
   "source": [
    "np.array(X_test).shape"
   ]
  },
  {
   "cell_type": "code",
   "execution_count": 36,
   "id": "6d4dd016-a6cf-4407-b22b-1ebbae28dd45",
   "metadata": {},
   "outputs": [],
   "source": [
    "mlp = MLPClassifier(activation = 'identity',hidden_layer_sizes = [100] ,solver = 'lbfgs',alpha = 0.00003, batch_size = 50,\n",
    "                    learning_rate_init=0.058, max_iter = 114, warm_start=True)\n",
    "chains = [ClassifierChain(mlp, order=\"random\", random_state=i) for i in range(10)]\n",
    "for chain in chains:\n",
    "    chain.fit(X_train, Y_train)"
   ]
  },
  {
   "cell_type": "code",
   "execution_count": 37,
   "id": "9d2a30ab-3db6-4c97-96c4-a6b7e5de3679",
   "metadata": {},
   "outputs": [],
   "source": [
    "Y_pred_chains = np.array([chain.predict(X_test) for chain in chains])\n",
    "chain_jaccard_scores = [\n",
    "    jaccard_score(Y_test, Y_pred_chain >= 0.5, average=\"samples\")\n",
    "    for Y_pred_chain in Y_pred_chains\n",
    "]\n",
    "\n",
    "Y_pred_ensemble = Y_pred_chains.mean(axis=0)"
   ]
  },
  {
   "cell_type": "code",
   "execution_count": 38,
   "id": "b95bbb1d-059a-49a8-a895-4ef6891f4851",
   "metadata": {},
   "outputs": [
    {
     "data": {
      "text/plain": [
       "[0.13005219985085756,\n",
       " 0.11789709172259508,\n",
       " 0.12150136713895103,\n",
       " 0.13211533681332338,\n",
       " 0.11777280636341038,\n",
       " 0.12614963957245837,\n",
       " 0.15229927914491673,\n",
       " 0.11725080785483472,\n",
       " 0.16654238130748195,\n",
       " 0.13683818046234153]"
      ]
     },
     "execution_count": 38,
     "metadata": {},
     "output_type": "execute_result"
    }
   ],
   "source": [
    "chain_jaccard_scores"
   ]
  },
  {
   "cell_type": "code",
   "execution_count": 39,
   "id": "bce09396-7c5d-4d50-a814-94d970115788",
   "metadata": {},
   "outputs": [],
   "source": [
    "Y_pred = np.where(Y_pred_ensemble>0.5,1,0)"
   ]
  },
  {
   "cell_type": "code",
   "execution_count": 40,
   "id": "bb838c55-ee96-49d2-b87f-585eb753d5cd",
   "metadata": {},
   "outputs": [
    {
     "data": {
      "text/plain": [
       "array([[0, 0, 0, ..., 0, 0, 0],\n",
       "       [0, 0, 0, ..., 0, 0, 0],\n",
       "       [0, 0, 0, ..., 0, 0, 0],\n",
       "       ...,\n",
       "       [0, 0, 0, ..., 0, 0, 0],\n",
       "       [0, 0, 0, ..., 0, 0, 0],\n",
       "       [0, 0, 0, ..., 0, 0, 1]])"
      ]
     },
     "execution_count": 40,
     "metadata": {},
     "output_type": "execute_result"
    }
   ],
   "source": [
    "Y_pred"
   ]
  },
  {
   "cell_type": "code",
   "execution_count": 41,
   "id": "41fdd973-f5e9-4497-95a9-297cecbe45f2",
   "metadata": {},
   "outputs": [],
   "source": [
    "m = multilabel_confusion_matrix(Y_test, Y_pred)"
   ]
  },
  {
   "cell_type": "code",
   "execution_count": 42,
   "id": "a332a90d-dedf-445f-acba-674045099161",
   "metadata": {},
   "outputs": [
    {
     "data": {
      "text/plain": [
       "array([[[6300,   17],\n",
       "        [ 388,    0]],\n",
       "\n",
       "       [[6195,    5],\n",
       "        [ 500,    5]],\n",
       "\n",
       "       [[6253,    1],\n",
       "        [ 451,    0]],\n",
       "\n",
       "       [[5843,  225],\n",
       "        [ 546,   91]],\n",
       "\n",
       "       [[5416,  529],\n",
       "        [ 585,  175]],\n",
       "\n",
       "       [[6015,    8],\n",
       "        [ 682,    0]],\n",
       "\n",
       "       [[2543, 3441],\n",
       "        [ 323,  398]],\n",
       "\n",
       "       [[6030,   49],\n",
       "        [ 625,    1]],\n",
       "\n",
       "       [[6122,    6],\n",
       "        [ 573,    4]],\n",
       "\n",
       "       [[6041,   84],\n",
       "        [ 572,    8]],\n",
       "\n",
       "       [[4834, 1093],\n",
       "        [ 645,  133]]])"
      ]
     },
     "execution_count": 42,
     "metadata": {},
     "output_type": "execute_result"
    }
   ],
   "source": [
    "m"
   ]
  },
  {
   "cell_type": "code",
   "execution_count": 43,
   "id": "8062c676-515e-43b3-9f3c-0ef4664a0aed",
   "metadata": {},
   "outputs": [],
   "source": [
    "precision = [x[1,1]/(x[1,1]+x[0,1]) for x in m]"
   ]
  },
  {
   "cell_type": "code",
   "execution_count": 44,
   "id": "56e3e728-2e48-4388-a092-730b6783f233",
   "metadata": {},
   "outputs": [
    {
     "data": {
      "text/plain": [
       "[0.0,\n",
       " 0.5,\n",
       " 0.0,\n",
       " 0.2879746835443038,\n",
       " 0.24857954545454544,\n",
       " 0.0,\n",
       " 0.10367283146652774,\n",
       " 0.02,\n",
       " 0.4,\n",
       " 0.08695652173913043,\n",
       " 0.10848287112561175]"
      ]
     },
     "execution_count": 44,
     "metadata": {},
     "output_type": "execute_result"
    }
   ],
   "source": [
    "precision"
   ]
  },
  {
   "cell_type": "code",
   "execution_count": 45,
   "id": "babd8c03-c5a6-4632-8264-a60241fd4414",
   "metadata": {},
   "outputs": [],
   "source": [
    "recall = np.array([x[1,1]/(x[1,1]+x[1,0]) for x in m])\n"
   ]
  },
  {
   "cell_type": "code",
   "execution_count": 46,
   "id": "5b32605a-ea6b-4fc1-b389-ad9909d65736",
   "metadata": {},
   "outputs": [
    {
     "data": {
      "text/plain": [
       "array([0.        , 0.00990099, 0.        , 0.14285714, 0.23026316,\n",
       "       0.        , 0.5520111 , 0.00159744, 0.00693241, 0.0137931 ,\n",
       "       0.17095116])"
      ]
     },
     "execution_count": 46,
     "metadata": {},
     "output_type": "execute_result"
    }
   ],
   "source": [
    "recall"
   ]
  },
  {
   "cell_type": "code",
   "execution_count": 47,
   "id": "1372978d-60a5-4a11-8d63-bd15ca0b9689",
   "metadata": {},
   "outputs": [
    {
     "name": "stderr",
     "output_type": "stream",
     "text": [
      "/var/folders/y1/pjhgyq7s17zfyt6wmlhs0jq40000gn/T/ipykernel_61378/145254599.py:1: RuntimeWarning: invalid value encountered in true_divide\n",
      "  f1 = 2*(precision*recall/(precision+recall))\n"
     ]
    },
    {
     "data": {
      "text/plain": [
       "array([       nan, 0.01941748,        nan, 0.19097587, 0.23907104,\n",
       "              nan, 0.1745614 , 0.00295858, 0.01362862, 0.02380952,\n",
       "       0.13273453])"
      ]
     },
     "execution_count": 47,
     "metadata": {},
     "output_type": "execute_result"
    }
   ],
   "source": [
    "f1 = 2*(precision*recall/(precision+recall))\n",
    "f1"
   ]
  },
  {
   "cell_type": "code",
   "execution_count": 48,
   "id": "244c5f0b-a525-4457-a304-fa3196038172",
   "metadata": {},
   "outputs": [
    {
     "data": {
      "text/html": [
       "<style>#sk-container-id-2 {color: black;background-color: white;}#sk-container-id-2 pre{padding: 0;}#sk-container-id-2 div.sk-toggleable {background-color: white;}#sk-container-id-2 label.sk-toggleable__label {cursor: pointer;display: block;width: 100%;margin-bottom: 0;padding: 0.3em;box-sizing: border-box;text-align: center;}#sk-container-id-2 label.sk-toggleable__label-arrow:before {content: \"▸\";float: left;margin-right: 0.25em;color: #696969;}#sk-container-id-2 label.sk-toggleable__label-arrow:hover:before {color: black;}#sk-container-id-2 div.sk-estimator:hover label.sk-toggleable__label-arrow:before {color: black;}#sk-container-id-2 div.sk-toggleable__content {max-height: 0;max-width: 0;overflow: hidden;text-align: left;background-color: #f0f8ff;}#sk-container-id-2 div.sk-toggleable__content pre {margin: 0.2em;color: black;border-radius: 0.25em;background-color: #f0f8ff;}#sk-container-id-2 input.sk-toggleable__control:checked~div.sk-toggleable__content {max-height: 200px;max-width: 100%;overflow: auto;}#sk-container-id-2 input.sk-toggleable__control:checked~label.sk-toggleable__label-arrow:before {content: \"▾\";}#sk-container-id-2 div.sk-estimator input.sk-toggleable__control:checked~label.sk-toggleable__label {background-color: #d4ebff;}#sk-container-id-2 div.sk-label input.sk-toggleable__control:checked~label.sk-toggleable__label {background-color: #d4ebff;}#sk-container-id-2 input.sk-hidden--visually {border: 0;clip: rect(1px 1px 1px 1px);clip: rect(1px, 1px, 1px, 1px);height: 1px;margin: -1px;overflow: hidden;padding: 0;position: absolute;width: 1px;}#sk-container-id-2 div.sk-estimator {font-family: monospace;background-color: #f0f8ff;border: 1px dotted black;border-radius: 0.25em;box-sizing: border-box;margin-bottom: 0.5em;}#sk-container-id-2 div.sk-estimator:hover {background-color: #d4ebff;}#sk-container-id-2 div.sk-parallel-item::after {content: \"\";width: 100%;border-bottom: 1px solid gray;flex-grow: 1;}#sk-container-id-2 div.sk-label:hover label.sk-toggleable__label {background-color: #d4ebff;}#sk-container-id-2 div.sk-serial::before {content: \"\";position: absolute;border-left: 1px solid gray;box-sizing: border-box;top: 0;bottom: 0;left: 50%;z-index: 0;}#sk-container-id-2 div.sk-serial {display: flex;flex-direction: column;align-items: center;background-color: white;padding-right: 0.2em;padding-left: 0.2em;position: relative;}#sk-container-id-2 div.sk-item {position: relative;z-index: 1;}#sk-container-id-2 div.sk-parallel {display: flex;align-items: stretch;justify-content: center;background-color: white;position: relative;}#sk-container-id-2 div.sk-item::before, #sk-container-id-2 div.sk-parallel-item::before {content: \"\";position: absolute;border-left: 1px solid gray;box-sizing: border-box;top: 0;bottom: 0;left: 50%;z-index: -1;}#sk-container-id-2 div.sk-parallel-item {display: flex;flex-direction: column;z-index: 1;position: relative;background-color: white;}#sk-container-id-2 div.sk-parallel-item:first-child::after {align-self: flex-end;width: 50%;}#sk-container-id-2 div.sk-parallel-item:last-child::after {align-self: flex-start;width: 50%;}#sk-container-id-2 div.sk-parallel-item:only-child::after {width: 0;}#sk-container-id-2 div.sk-dashed-wrapped {border: 1px dashed gray;margin: 0 0.4em 0.5em 0.4em;box-sizing: border-box;padding-bottom: 0.4em;background-color: white;}#sk-container-id-2 div.sk-label label {font-family: monospace;font-weight: bold;display: inline-block;line-height: 1.2em;}#sk-container-id-2 div.sk-label-container {text-align: center;}#sk-container-id-2 div.sk-container {/* jupyter's `normalize.less` sets `[hidden] { display: none; }` but bootstrap.min.css set `[hidden] { display: none !important; }` so we also need the `!important` here to be able to override the default hidden behavior on the sphinx rendered scikit-learn.org. See: https://github.com/scikit-learn/scikit-learn/issues/21755 */display: inline-block !important;position: relative;}#sk-container-id-2 div.sk-text-repr-fallback {display: none;}</style><div id=\"sk-container-id-2\" class=\"sk-top-container\"><div class=\"sk-text-repr-fallback\"><pre>OneVsRestClassifier(estimator=MLPClassifier(activation=&#x27;identity&#x27;, alpha=3e-05,\n",
       "                                            batch_size=50,\n",
       "                                            hidden_layer_sizes=[100],\n",
       "                                            learning_rate_init=0.058,\n",
       "                                            max_iter=114, solver=&#x27;lbfgs&#x27;,\n",
       "                                            warm_start=True))</pre><b>In a Jupyter environment, please rerun this cell to show the HTML representation or trust the notebook. <br />On GitHub, the HTML representation is unable to render, please try loading this page with nbviewer.org.</b></div><div class=\"sk-container\" hidden><div class=\"sk-item sk-dashed-wrapped\"><div class=\"sk-label-container\"><div class=\"sk-label sk-toggleable\"><input class=\"sk-toggleable__control sk-hidden--visually\" id=\"sk-estimator-id-4\" type=\"checkbox\" ><label for=\"sk-estimator-id-4\" class=\"sk-toggleable__label sk-toggleable__label-arrow\">OneVsRestClassifier</label><div class=\"sk-toggleable__content\"><pre>OneVsRestClassifier(estimator=MLPClassifier(activation=&#x27;identity&#x27;, alpha=3e-05,\n",
       "                                            batch_size=50,\n",
       "                                            hidden_layer_sizes=[100],\n",
       "                                            learning_rate_init=0.058,\n",
       "                                            max_iter=114, solver=&#x27;lbfgs&#x27;,\n",
       "                                            warm_start=True))</pre></div></div></div><div class=\"sk-parallel\"><div class=\"sk-parallel-item\"><div class=\"sk-item\"><div class=\"sk-label-container\"><div class=\"sk-label sk-toggleable\"><input class=\"sk-toggleable__control sk-hidden--visually\" id=\"sk-estimator-id-5\" type=\"checkbox\" ><label for=\"sk-estimator-id-5\" class=\"sk-toggleable__label sk-toggleable__label-arrow\">estimator: MLPClassifier</label><div class=\"sk-toggleable__content\"><pre>MLPClassifier(activation=&#x27;identity&#x27;, alpha=3e-05, batch_size=50,\n",
       "              hidden_layer_sizes=[100], learning_rate_init=0.058, max_iter=114,\n",
       "              solver=&#x27;lbfgs&#x27;, warm_start=True)</pre></div></div></div><div class=\"sk-serial\"><div class=\"sk-item\"><div class=\"sk-estimator sk-toggleable\"><input class=\"sk-toggleable__control sk-hidden--visually\" id=\"sk-estimator-id-6\" type=\"checkbox\" ><label for=\"sk-estimator-id-6\" class=\"sk-toggleable__label sk-toggleable__label-arrow\">MLPClassifier</label><div class=\"sk-toggleable__content\"><pre>MLPClassifier(activation=&#x27;identity&#x27;, alpha=3e-05, batch_size=50,\n",
       "              hidden_layer_sizes=[100], learning_rate_init=0.058, max_iter=114,\n",
       "              solver=&#x27;lbfgs&#x27;, warm_start=True)</pre></div></div></div></div></div></div></div></div></div></div>"
      ],
      "text/plain": [
       "OneVsRestClassifier(estimator=MLPClassifier(activation='identity', alpha=3e-05,\n",
       "                                            batch_size=50,\n",
       "                                            hidden_layer_sizes=[100],\n",
       "                                            learning_rate_init=0.058,\n",
       "                                            max_iter=114, solver='lbfgs',\n",
       "                                            warm_start=True))"
      ]
     },
     "execution_count": 48,
     "metadata": {},
     "output_type": "execute_result"
    }
   ],
   "source": [
    "ovr = OneVsRestClassifier(mlp)\n",
    "ovr.fit(X_train, Y_train)"
   ]
  },
  {
   "cell_type": "code",
   "execution_count": 49,
   "id": "34f94f93-862f-4546-96eb-cb3bbbf83607",
   "metadata": {},
   "outputs": [
    {
     "data": {
      "text/plain": [
       "array([[[6313,    4],\n",
       "        [ 388,    0]],\n",
       "\n",
       "       [[6197,    3],\n",
       "        [ 500,    5]],\n",
       "\n",
       "       [[6253,    1],\n",
       "        [ 451,    0]],\n",
       "\n",
       "       [[6049,   19],\n",
       "        [ 618,   19]],\n",
       "\n",
       "       [[5546,  399],\n",
       "        [ 624,  136]],\n",
       "\n",
       "       [[6014,    9],\n",
       "        [ 682,    0]],\n",
       "\n",
       "       [[5424,  560],\n",
       "        [ 616,  105]],\n",
       "\n",
       "       [[6063,   16],\n",
       "        [ 626,    0]],\n",
       "\n",
       "       [[6121,    7],\n",
       "        [ 572,    5]],\n",
       "\n",
       "       [[6081,   44],\n",
       "        [ 578,    2]],\n",
       "\n",
       "       [[5366,  561],\n",
       "        [ 719,   59]]])"
      ]
     },
     "execution_count": 49,
     "metadata": {},
     "output_type": "execute_result"
    }
   ],
   "source": [
    "ovr_pred = ovr.predict(X_test)\n",
    "M_ovr = multilabel_confusion_matrix(Y_test, ovr_pred)\n",
    "M_ovr"
   ]
  },
  {
   "cell_type": "code",
   "execution_count": 50,
   "id": "bbd36ba2-1cda-469e-8f8a-43260d7ba461",
   "metadata": {},
   "outputs": [],
   "source": [
    "p, r, f1, s = precision_recall_fscore_support(Y_test, ovr_pred)"
   ]
  },
  {
   "cell_type": "code",
   "execution_count": 51,
   "id": "bd5c06d8-6fa2-4cec-bc51-2f6225ee8772",
   "metadata": {},
   "outputs": [
    {
     "data": {
      "text/plain": [
       "array([0.        , 0.625     , 0.        , 0.5       , 0.25420561,\n",
       "       0.        , 0.15789474, 0.        , 0.41666667, 0.04347826,\n",
       "       0.09516129])"
      ]
     },
     "execution_count": 51,
     "metadata": {},
     "output_type": "execute_result"
    }
   ],
   "source": [
    "p"
   ]
  },
  {
   "cell_type": "code",
   "execution_count": 52,
   "id": "4d95ad0b-3b71-4ef0-9ae4-594c294821a7",
   "metadata": {},
   "outputs": [
    {
     "data": {
      "text/plain": [
       "array([0.        , 0.00990099, 0.        , 0.02982732, 0.17894737,\n",
       "       0.        , 0.14563107, 0.        , 0.00866551, 0.00344828,\n",
       "       0.07583548])"
      ]
     },
     "execution_count": 52,
     "metadata": {},
     "output_type": "execute_result"
    }
   ],
   "source": [
    "r"
   ]
  },
  {
   "cell_type": "code",
   "execution_count": 53,
   "id": "a717397d-65c4-41c8-a4e4-3a66872e9f97",
   "metadata": {},
   "outputs": [
    {
     "data": {
      "text/plain": [
       "array([0.        , 0.01949318, 0.        , 0.0562963 , 0.21003861,\n",
       "       0.        , 0.15151515, 0.        , 0.01697793, 0.00638978,\n",
       "       0.08440629])"
      ]
     },
     "execution_count": 53,
     "metadata": {},
     "output_type": "execute_result"
    }
   ],
   "source": [
    "f1"
   ]
  },
  {
   "cell_type": "code",
   "execution_count": 54,
   "id": "f99fa1b5-24df-444c-8ea4-ac33b7c94829",
   "metadata": {},
   "outputs": [
    {
     "data": {
      "text/plain": [
       "array([388, 505, 451, 637, 760, 682, 721, 626, 577, 580, 778])"
      ]
     },
     "execution_count": 54,
     "metadata": {},
     "output_type": "execute_result"
    }
   ],
   "source": [
    "s"
   ]
  },
  {
   "cell_type": "code",
   "execution_count": 55,
   "id": "492a94a5-9a71-4c05-8f13-3bb0820724c8",
   "metadata": {},
   "outputs": [
    {
     "data": {
      "image/png": "[encoded data removed]",
      "text/plain": [
       "<Figure size 1000x600 with 1 Axes>"
      ]
     },
     "metadata": {},
     "output_type": "display_data"
    }
   ],
   "source": [
    "import matplotlib.pyplot as plt\n",
    "import numpy as np\n",
    "\n",
    "fig, ax = plt.subplots(figsize=(10, 6))\n",
    "x_ax = [\"Cello\",\"Clarinet\", \"Flute\", \"Guitar\", \"E-Guitar\", \"Organ\", \"Piano\", \"Saxophone\", \"Trumpet\", \"Violin\", \"Voice\"]\n",
    "x = np.arange(len(precision))  # the label locations\n",
    "width = 0.2  # the width of the bars\n",
    "rects1 = ax.bar(x - width, precision, width, label='Precision')\n",
    "rects2 = ax.bar(x, recall, width, label='Recall')\n",
    "rects3 = ax.bar(x + width, f1, width, label='F1-Score')\n",
    "ax.set_ylabel('Scores')\n",
    "ax.set_title('Precision, Recall, and F1-Score for each instrument with MLP, single chain')\n",
    "ax.set_xticks(x)\n",
    "ax.set_xticklabels([i for i in x_ax])\n",
    "ax.legend()\n",
    "fig.tight_layout()\n",
    "plt.savefig('ScoresMLPsingle.png')\n",
    "plt.show()"
   ]
  },
  {
   "cell_type": "code",
   "execution_count": null,
   "id": "0c3d3839-077b-41b9-8bd6-c4f237091263",
   "metadata": {},
   "outputs": [],
   "source": []
  }
 ],
 "metadata": {
  "kernelspec": {
   "display_name": "Python 3 (ipykernel)",
   "language": "python",
   "name": "python3"
  },
  "language_info": {
   "codemirror_mode": {
    "name": "ipython",
    "version": 3
   },
   "file_extension": ".py",
   "mimetype": "text/x-python",
   "name": "python",
   "nbconvert_exporter": "python",
   "pygments_lexer": "ipython3",
   "version": "3.10.3"
  }
 },
 "nbformat": 4,
 "nbformat_minor": 5
}
