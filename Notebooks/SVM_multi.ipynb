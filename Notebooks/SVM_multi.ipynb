{
 "cells": [
  {
   "cell_type": "code",
   "execution_count": 33,
   "id": "6dede60d-85c5-46b6-9e8e-fd7d596b22d5",
   "metadata": {},
   "outputs": [],
   "source": [
    "from sklearn.neural_network import MLPClassifier\n",
    "import numpy as np\n",
    "from sklearn.model_selection import train_test_split\n",
    "from sklearn.multioutput import ClassifierChain\n",
    "from sklearn.metrics import jaccard_score, multilabel_confusion_matrix, f1_score, precision_score\n",
    "import matplotlib.pyplot as plt\n",
    "from sklearn.multiclass import OneVsRestClassifier\n",
    "from sklearn.model_selection import cross_val_score\n",
    "from sklearn.model_selection import cross_validate\n",
    "from skopt import BayesSearchCV\n",
    "from sklearn import preprocessing\n",
    "from sklearn.base import BaseEstimator, ClassifierMixin\n",
    "import pickle\n",
    "from sklearn.svm import SVC"
   ]
  },
  {
   "cell_type": "code",
   "execution_count": 49,
   "id": "ecf40e1a-b3ee-4045-98eb-cfa1bcec7630",
   "metadata": {},
   "outputs": [],
   "source": [
    "class ChainSVM(BaseEstimator, ClassifierMixin):\n",
    "    def __init__(self, tol, reg, kernel, coef0, degree):\n",
    "        super(ChainSVM, self).__init__()\n",
    "        self.tol = tol\n",
    "        self.reg = reg\n",
    "        self.coef0 = coef0\n",
    "        self.kernel = kernel\n",
    "        self.degree = degree\n",
    "        self.model = SVC(tol=self.tol, C = self.reg, class_weight='balanced', kernel = 'poly', coef0=self.coef0, degree = self.degree)\n",
    "        self.chain = ClassifierChain(self.model, order=\"random\", random_state=1)\n",
    "\n",
    "    def fit(self, X_train, Y_train):\n",
    "        #self.chain = ClassifierChain(self.model, order=\"random\", random_state=1)\n",
    "        return self.chain.fit(X_train, Y_train)\n",
    "    \n",
    "    def score(self, X_test, Y_test):\n",
    "        Y_pred_chain = self.chain.predict(X_test)\n",
    "        precision = precision_score(Y_test, Y_pred_chain>=0.5, average='samples')\n",
    "        return precision \n",
    "        "
   ]
  },
  {
   "cell_type": "code",
   "execution_count": 50,
   "id": "ea6f4b2f-527c-4cc3-a87e-b5d61ca4c91c",
   "metadata": {},
   "outputs": [],
   "source": [
    "x = np.load('../Part1.npy')\n",
    "Y_t = np.load('../train.npy/y_train.npy')\n",
    "#X_train = (x-np.min(x))/(np.max(x)-np.min(x))\n",
    "xt = np.load('../Part2.npy')\n",
    "Y_te = np.load('../test.npy/Y_Test.npy')\n",
    "#X_test = (xt-np.min(xt))/(np.max(xt)-np.min(xt))\n",
    "x_add = np.load('../Part3.npy')\n",
    "y_add = np.load('../additional.npy/Y_additional.npy')\n",
    "#x_add = (x_add-np.min(x_add))/(np.max(x_add)-np.min(x_add))\n",
    "Y = np.concatenate((Y_t, Y_te, y_add))\n",
    "X = np.concatenate((x, xt, x_add))\n",
    "#X_train = (X_train-np.min(X_train))/(np.max(X_train)-np.min(X_train))\n",
    "scaler = preprocessing.StandardScaler().fit(X)\n",
    "X = scaler.transform(X)\n",
    "X_train, X_test, Y_train, Y_test = train_test_split(X, Y)"
   ]
  },
  {
   "cell_type": "code",
   "execution_count": 52,
   "id": "82cf6d40-d4c1-4b31-b537-7f53640a0b61",
   "metadata": {},
   "outputs": [
    {
     "data": {
      "text/html": [
       "<style>#sk-container-id-5 {color: black;background-color: white;}#sk-container-id-5 pre{padding: 0;}#sk-container-id-5 div.sk-toggleable {background-color: white;}#sk-container-id-5 label.sk-toggleable__label {cursor: pointer;display: block;width: 100%;margin-bottom: 0;padding: 0.3em;box-sizing: border-box;text-align: center;}#sk-container-id-5 label.sk-toggleable__label-arrow:before {content: \"▸\";float: left;margin-right: 0.25em;color: #696969;}#sk-container-id-5 label.sk-toggleable__label-arrow:hover:before {color: black;}#sk-container-id-5 div.sk-estimator:hover label.sk-toggleable__label-arrow:before {color: black;}#sk-container-id-5 div.sk-toggleable__content {max-height: 0;max-width: 0;overflow: hidden;text-align: left;background-color: #f0f8ff;}#sk-container-id-5 div.sk-toggleable__content pre {margin: 0.2em;color: black;border-radius: 0.25em;background-color: #f0f8ff;}#sk-container-id-5 input.sk-toggleable__control:checked~div.sk-toggleable__content {max-height: 200px;max-width: 100%;overflow: auto;}#sk-container-id-5 input.sk-toggleable__control:checked~label.sk-toggleable__label-arrow:before {content: \"▾\";}#sk-container-id-5 div.sk-estimator input.sk-toggleable__control:checked~label.sk-toggleable__label {background-color: #d4ebff;}#sk-container-id-5 div.sk-label input.sk-toggleable__control:checked~label.sk-toggleable__label {background-color: #d4ebff;}#sk-container-id-5 input.sk-hidden--visually {border: 0;clip: rect(1px 1px 1px 1px);clip: rect(1px, 1px, 1px, 1px);height: 1px;margin: -1px;overflow: hidden;padding: 0;position: absolute;width: 1px;}#sk-container-id-5 div.sk-estimator {font-family: monospace;background-color: #f0f8ff;border: 1px dotted black;border-radius: 0.25em;box-sizing: border-box;margin-bottom: 0.5em;}#sk-container-id-5 div.sk-estimator:hover {background-color: #d4ebff;}#sk-container-id-5 div.sk-parallel-item::after {content: \"\";width: 100%;border-bottom: 1px solid gray;flex-grow: 1;}#sk-container-id-5 div.sk-label:hover label.sk-toggleable__label {background-color: #d4ebff;}#sk-container-id-5 div.sk-serial::before {content: \"\";position: absolute;border-left: 1px solid gray;box-sizing: border-box;top: 0;bottom: 0;left: 50%;z-index: 0;}#sk-container-id-5 div.sk-serial {display: flex;flex-direction: column;align-items: center;background-color: white;padding-right: 0.2em;padding-left: 0.2em;position: relative;}#sk-container-id-5 div.sk-item {position: relative;z-index: 1;}#sk-container-id-5 div.sk-parallel {display: flex;align-items: stretch;justify-content: center;background-color: white;position: relative;}#sk-container-id-5 div.sk-item::before, #sk-container-id-5 div.sk-parallel-item::before {content: \"\";position: absolute;border-left: 1px solid gray;box-sizing: border-box;top: 0;bottom: 0;left: 50%;z-index: -1;}#sk-container-id-5 div.sk-parallel-item {display: flex;flex-direction: column;z-index: 1;position: relative;background-color: white;}#sk-container-id-5 div.sk-parallel-item:first-child::after {align-self: flex-end;width: 50%;}#sk-container-id-5 div.sk-parallel-item:last-child::after {align-self: flex-start;width: 50%;}#sk-container-id-5 div.sk-parallel-item:only-child::after {width: 0;}#sk-container-id-5 div.sk-dashed-wrapped {border: 1px dashed gray;margin: 0 0.4em 0.5em 0.4em;box-sizing: border-box;padding-bottom: 0.4em;background-color: white;}#sk-container-id-5 div.sk-label label {font-family: monospace;font-weight: bold;display: inline-block;line-height: 1.2em;}#sk-container-id-5 div.sk-label-container {text-align: center;}#sk-container-id-5 div.sk-container {/* jupyter's `normalize.less` sets `[hidden] { display: none; }` but bootstrap.min.css set `[hidden] { display: none !important; }` so we also need the `!important` here to be able to override the default hidden behavior on the sphinx rendered scikit-learn.org. See: https://github.com/scikit-learn/scikit-learn/issues/21755 */display: inline-block !important;position: relative;}#sk-container-id-5 div.sk-text-repr-fallback {display: none;}</style><div id=\"sk-container-id-5\" class=\"sk-top-container\"><div class=\"sk-text-repr-fallback\"><pre>BayesSearchCV(cv=7,\n",
       "              estimator=ChainSVM(coef0=0.0, degree=3, kernel=&#x27;rbf&#x27;, reg=1,\n",
       "                                 tol=0.0001),\n",
       "              n_jobs=-1, search_spaces={&#x27;coef0&#x27;: (0.0, 1), &#x27;degree&#x27;: (2, 8)})</pre><b>In a Jupyter environment, please rerun this cell to show the HTML representation or trust the notebook. <br />On GitHub, the HTML representation is unable to render, please try loading this page with nbviewer.org.</b></div><div class=\"sk-container\" hidden><div class=\"sk-item sk-dashed-wrapped\"><div class=\"sk-label-container\"><div class=\"sk-label sk-toggleable\"><input class=\"sk-toggleable__control sk-hidden--visually\" id=\"sk-estimator-id-13\" type=\"checkbox\" ><label for=\"sk-estimator-id-13\" class=\"sk-toggleable__label sk-toggleable__label-arrow\">BayesSearchCV</label><div class=\"sk-toggleable__content\"><pre>BayesSearchCV(cv=7,\n",
       "              estimator=ChainSVM(coef0=0.0, degree=3, kernel=&#x27;rbf&#x27;, reg=1,\n",
       "                                 tol=0.0001),\n",
       "              n_jobs=-1, search_spaces={&#x27;coef0&#x27;: (0.0, 1), &#x27;degree&#x27;: (2, 8)})</pre></div></div></div><div class=\"sk-parallel\"><div class=\"sk-parallel-item\"><div class=\"sk-item\"><div class=\"sk-label-container\"><div class=\"sk-label sk-toggleable\"><input class=\"sk-toggleable__control sk-hidden--visually\" id=\"sk-estimator-id-14\" type=\"checkbox\" ><label for=\"sk-estimator-id-14\" class=\"sk-toggleable__label sk-toggleable__label-arrow\">estimator: ChainSVM</label><div class=\"sk-toggleable__content\"><pre>ChainSVM(coef0=0.0, degree=3, kernel=&#x27;rbf&#x27;, reg=1, tol=0.0001)</pre></div></div></div><div class=\"sk-serial\"><div class=\"sk-item\"><div class=\"sk-estimator sk-toggleable\"><input class=\"sk-toggleable__control sk-hidden--visually\" id=\"sk-estimator-id-15\" type=\"checkbox\" ><label for=\"sk-estimator-id-15\" class=\"sk-toggleable__label sk-toggleable__label-arrow\">ChainSVM</label><div class=\"sk-toggleable__content\"><pre>ChainSVM(coef0=0.0, degree=3, kernel=&#x27;rbf&#x27;, reg=1, tol=0.0001)</pre></div></div></div></div></div></div></div></div></div></div>"
      ],
      "text/plain": [
       "BayesSearchCV(cv=7,\n",
       "              estimator=ChainSVM(coef0=0.0, degree=3, kernel='rbf', reg=1,\n",
       "                                 tol=0.0001),\n",
       "              n_jobs=-1, search_spaces={'coef0': (0.0, 1), 'degree': (2, 8)})"
      ]
     },
     "execution_count": 52,
     "metadata": {},
     "output_type": "execute_result"
    }
   ],
   "source": [
    "search_space = {\n",
    "    'coef0':(0.0,1),\n",
    "    'degree':(2,8)\n",
    "}\n",
    "\n",
    "test = ChainSVM(0.0001, 1, 'rbf', coef0=0.0, degree = 3)\n",
    "opt = BayesSearchCV(test, search_space, n_iter=50, cv=7, n_jobs=-1)\n",
    "opt.fit(X_train, Y_train)"
   ]
  },
  {
   "cell_type": "code",
   "execution_count": 53,
   "id": "d9c783c7-717b-4bdc-b493-0e88d995b0a8",
   "metadata": {},
   "outputs": [
    {
     "name": "stdout",
     "output_type": "stream",
     "text": [
      "Best parameters found:  OrderedDict([('coef0', 0.7958225015092468), ('degree', 6)])\n",
      "Best score:  0.40246470219713587\n"
     ]
    }
   ],
   "source": [
    "print(\"Best parameters found: \", opt.best_params_)\n",
    "print(\"Best score: \", opt.best_score_)"
   ]
  },
  {
   "cell_type": "code",
   "execution_count": 54,
   "id": "035f207f-b26c-43a6-b96f-471c8ef20887",
   "metadata": {},
   "outputs": [],
   "source": [
    "import warnings\n",
    "warnings.filterwarnings(\"ignore\")\n",
    "svm = SVC(C=0.15, tol=0.041, kernel='poly', coef0=0.79, degree=6)\n",
    "chains = [ClassifierChain(svm, order=\"random\", random_state=i) for i in range(10)]\n",
    "for chain in chains:\n",
    "    chain.fit(X_train, Y_train)\n",
    "\n",
    "Y_pred_chains = np.array([chain.predict(X_test) for chain in chains])\n",
    "chain_jaccard_scores = [\n",
    "    jaccard_score(Y_test, Y_pred_chain >= 0.5, average=\"samples\")\n",
    "    for Y_pred_chain in Y_pred_chains\n",
    "]\n",
    "\n",
    "Y_pred_max = Y_pred_chains.max(axis=0)"
   ]
  },
  {
   "cell_type": "code",
   "execution_count": 55,
   "id": "67767b75-c3ea-4769-9eec-6e63176ddf5f",
   "metadata": {},
   "outputs": [
    {
     "name": "stdout",
     "output_type": "stream",
     "text": [
      "[[[683   8]\n",
      "  [ 15  13]]\n",
      "\n",
      " [[698   2]\n",
      "  [ 16   3]]\n",
      "\n",
      " [[671   5]\n",
      "  [ 40   3]]\n",
      "\n",
      " [[565  22]\n",
      "  [ 88  44]]\n",
      "\n",
      " [[449  36]\n",
      "  [162  72]]\n",
      "\n",
      " [[611  14]\n",
      "  [ 75  19]]\n",
      "\n",
      " [[405  62]\n",
      "  [103 149]]\n",
      "\n",
      " [[631  11]\n",
      "  [ 61  16]]\n",
      "\n",
      " [[678   6]\n",
      "  [ 32   3]]\n",
      "\n",
      " [[663   9]\n",
      "  [ 33  14]]\n",
      "\n",
      " [[386  75]\n",
      "  [147 111]]]\n"
     ]
    }
   ],
   "source": [
    "Y_pred_ensemble = Y_pred_chains.mean(axis=0)\n",
    "Y_pred = np.where(Y_pred_ensemble>0.5,1,0)\n",
    "m = multilabel_confusion_matrix(Y_test, Y_pred)\n",
    "print(m)"
   ]
  },
  {
   "cell_type": "code",
   "execution_count": 56,
   "id": "af1d981a-a5a7-46bc-a938-0793d47f7d82",
   "metadata": {},
   "outputs": [
    {
     "name": "stdout",
     "output_type": "stream",
     "text": [
      "447 250 6440 772\n"
     ]
    }
   ],
   "source": [
    "tp = sum(m[:,1,1])\n",
    "fp = sum(m[:,0,1])\n",
    "tn = sum(m[:,0,0])\n",
    "fn = sum(m[:,1,0])\n",
    "print(tp, fp, tn, fn)"
   ]
  },
  {
   "cell_type": "code",
   "execution_count": 58,
   "id": "99c3e9c4-97f4-4e4c-8106-ef10a3386b58",
   "metadata": {},
   "outputs": [
    {
     "name": "stdout",
     "output_type": "stream",
     "text": [
      "[0.61904762 0.6        0.375      0.66666667 0.66666667 0.57575758\n",
      " 0.70616114 0.59259259 0.33333333 0.60869565 0.59677419]\n"
     ]
    }
   ],
   "source": [
    "precision = np.array([x[1,1]/(x[1,1]+x[0,1]) for x in m])\n",
    "recall = np.array([x[1,1]/(x[1,1]+x[1,0]) for x in m])\n",
    "f1 = 2*precision*recall/(precision+recall)\n",
    "print(precision)"
   ]
  },
  {
   "cell_type": "code",
   "execution_count": 59,
   "id": "bd58b9be-f1aa-4797-9e00-aebbc9b223c6",
   "metadata": {},
   "outputs": [
    {
     "data": {
      "text/plain": [
       "array([0.46428571, 0.15789474, 0.06976744, 0.33333333, 0.30769231,\n",
       "       0.20212766, 0.59126984, 0.20779221, 0.08571429, 0.29787234,\n",
       "       0.43023256])"
      ]
     },
     "execution_count": 59,
     "metadata": {},
     "output_type": "execute_result"
    }
   ],
   "source": [
    "recall"
   ]
  },
  {
   "cell_type": "code",
   "execution_count": 60,
   "id": "593d9702-bb76-4a7f-96e9-550ff6c6599e",
   "metadata": {},
   "outputs": [
    {
     "data": {
      "text/plain": [
       "array([0.53061224, 0.25      , 0.11764706, 0.44444444, 0.42105263,\n",
       "       0.2992126 , 0.64362851, 0.30769231, 0.13636364, 0.4       ,\n",
       "       0.5       ])"
      ]
     },
     "execution_count": 60,
     "metadata": {},
     "output_type": "execute_result"
    }
   ],
   "source": [
    "f1"
   ]
  },
  {
   "cell_type": "code",
   "execution_count": null,
   "id": "76904ffc-3c71-41ba-8eb9-9d70d3bf6002",
   "metadata": {},
   "outputs": [],
   "source": [
    "import matplotlib.pyplot as plt\n",
    "import numpy as np\n",
    "\n",
    "fig, ax = plt.subplots(figsize=(10, 6))\n",
    "x_ax = [\"Cello\",\"Clarinet\", \"Flute\", \"Guitar\", \"E-Guitar\", \"Organ\", \"Piano\", \"Saxophone\", \"Trumpet\", \"Violin\", \"Voice\"]\n",
    "x = np.arange(len(precision))  # the label locations\n",
    "width = 0.2  # the width of the bars\n",
    "rects1 = ax.bar(x - width, precision, width, label='Precision')\n",
    "rects2 = ax.bar(x, recall, width, label='Recall')\n",
    "rects3 = ax.bar(x + width, f1, width, label='F1-Score')\n",
    "ax.set_ylabel('Scores')\n",
    "ax.set_title('Precision, Recall, and F1-Score for each instrument with SVM, multi label')\n",
    "ax.set_xticks(x)\n",
    "ax.set_xticklabels([i for i in x_ax])\n",
    "ax.legend()\n",
    "fig.tight_layout()\n",
    "plt.savefig('ScoresSVMmulti.png')\n",
    "plt.show()"
   ]
  }
 ],
 "metadata": {
  "kernelspec": {
   "display_name": "Python 3 (ipykernel)",
   "language": "python",
   "name": "python3"
  },
  "language_info": {
   "codemirror_mode": {
    "name": "ipython",
    "version": 3
   },
   "file_extension": ".py",
   "mimetype": "text/x-python",
   "name": "python",
   "nbconvert_exporter": "python",
   "pygments_lexer": "ipython3",
   "version": "3.10.3"
  }
 },
 "nbformat": 4,
 "nbformat_minor": 5
}
