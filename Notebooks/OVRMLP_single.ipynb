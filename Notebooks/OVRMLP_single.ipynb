{
 "cells": [
  {
   "cell_type": "code",
   "execution_count": 1,
   "id": "b390fa65-6af7-4740-bd80-57dc8f185c76",
   "metadata": {},
   "outputs": [],
   "source": [
    "from sklearn.neural_network import MLPClassifier\n",
    "import numpy as np\n",
    "from sklearn.model_selection import train_test_split\n",
    "from sklearn.multioutput import ClassifierChain\n",
    "from sklearn.metrics import jaccard_score, multilabel_confusion_matrix, precision_recall_fscore_support, precision_score\n",
    "import matplotlib.pyplot as plt\n",
    "from sklearn.multiclass import OneVsRestClassifier\n",
    "from sklearn.model_selection import cross_val_score\n",
    "from sklearn.model_selection import cross_validate\n",
    "from sklearn import preprocessing\n",
    "from skopt import BayesSearchCV\n",
    "from sklearn.base import BaseEstimator, ClassifierMixin\n",
    "from sklearn.svm import SVC"
   ]
  },
  {
   "cell_type": "code",
   "execution_count": 2,
   "id": "74359165-d23f-4756-8478-f9424abaac3f",
   "metadata": {},
   "outputs": [],
   "source": [
    "x = np.load('../Part1.npy')\n",
    "Y_t = np.load('../train.npy/y_train.npy')\n",
    "#X_train = (x-np.min(x))/(np.max(x)-np.min(x))\n",
    "xt = np.load('../Part2.npy')\n",
    "Y_test = np.load('../test.npy/Y_Test.npy')\n",
    "#X_test = (xt-np.min(xt))/(np.max(xt)-np.min(xt))\n",
    "x_add = np.load('../Part3.npy')\n",
    "y_add = np.load('../additional.npy/Y_additional.npy')\n",
    "#x_add = (x_add-np.min(x_add))/(np.max(x_add)-np.min(x_add))\n",
    "Y_train = np.concatenate((Y_t, Y_test, y_add))\n",
    "X_train = np.concatenate((x, xt, x_add))\n",
    "#X_train = (X_train-np.min(X_train))/(np.max(X_train)-np.min(X_train))\n",
    "scaler = preprocessing.StandardScaler().fit(X_train)\n",
    "X_train = scaler.transform(X_train)"
   ]
  },
  {
   "cell_type": "code",
   "execution_count": 3,
   "id": "4f4c015a-7520-40c0-9ca9-0aa7f484783e",
   "metadata": {},
   "outputs": [],
   "source": [
    "X_test = np.load('X_single.npy')\n",
    "Y_test = np.load('Y_single.npy')\n",
    "scaler = preprocessing.StandardScaler().fit(X_test)\n",
    "X_test = scaler.transform(X_test)"
   ]
  },
  {
   "cell_type": "code",
   "execution_count": 7,
   "id": "138b8d64-e4e6-4a13-a12d-18d97f9be09a",
   "metadata": {},
   "outputs": [],
   "source": [
    "class OvrMLP(BaseEstimator, ClassifierMixin):\n",
    "    def __init__(self, hidden_layer_sizes, activation, solver, alpha, batch_size, learning_rate, learning_rate_init, \n",
    "                 max_iter, shuffle, warm_start):\n",
    "        super(OvrMLP, self).__init__()\n",
    "        self.activation = activation\n",
    "        self.hidden_layer_sizes = hidden_layer_sizes\n",
    "        self.alpha = alpha\n",
    "        self.learning_rate_init = learning_rate_init\n",
    "        self.max_iter = max_iter\n",
    "        self.model = MLPClassifier(activation = activation, hidden_layer_sizes = hidden_layer_sizes ,solver = 'adam',\n",
    "                                   alpha = alpha, batch_size = 200, learning_rate_init= learning_rate_init, max_iter = max_iter)\n",
    "        self.ovr = OneVsRestClassifier(self.model)\n",
    "        self.solver = solver\n",
    "        self.batch_size = batch_size\n",
    "        self.learning_rate = learning_rate\n",
    "        self.shuffle = shuffle\n",
    "        self.warm_start = warm_start\n",
    "    def fit(self, X_train, Y_train):\n",
    "        #self.chain = ClassifierChain(self.model, order=\"random\", random_state=1)\n",
    "        return self.ovr.fit(X_train, Y_train)\n",
    "    \n",
    "    def score(self, X_test, Y_test):\n",
    "        Y_pred_chain = self.ovr.predict(X_test)\n",
    "        chain_jaccard_score = jaccard_score(Y_test, Y_pred_chain, average=\"samples\")\n",
    "        return chain_jaccard_score\n",
    "        "
   ]
  },
  {
   "cell_type": "code",
   "execution_count": 8,
   "id": "79aaad6e-6137-4e25-9efd-ec16bfddb0a2",
   "metadata": {},
   "outputs": [
    {
     "name": "stderr",
     "output_type": "stream",
     "text": [
      "C:\\Users\\jonat\\Documents\\GraphAnalytics\\gaenv\\lib\\site-packages\\sklearn\\neural_network\\_multilayer_perceptron.py:679: ConvergenceWarning: Stochastic Optimizer: Maximum iterations (193) reached and the optimization hasn't converged yet.\n",
      "  warnings.warn(\n",
      "C:\\Users\\jonat\\Documents\\GraphAnalytics\\gaenv\\lib\\site-packages\\sklearn\\neural_network\\_multilayer_perceptron.py:679: ConvergenceWarning: Stochastic Optimizer: Maximum iterations (193) reached and the optimization hasn't converged yet.\n",
      "  warnings.warn(\n",
      "C:\\Users\\jonat\\Documents\\GraphAnalytics\\gaenv\\lib\\site-packages\\sklearn\\neural_network\\_multilayer_perceptron.py:679: ConvergenceWarning: Stochastic Optimizer: Maximum iterations (193) reached and the optimization hasn't converged yet.\n",
      "  warnings.warn(\n",
      "C:\\Users\\jonat\\Documents\\GraphAnalytics\\gaenv\\lib\\site-packages\\sklearn\\neural_network\\_multilayer_perceptron.py:679: ConvergenceWarning: Stochastic Optimizer: Maximum iterations (193) reached and the optimization hasn't converged yet.\n",
      "  warnings.warn(\n",
      "C:\\Users\\jonat\\Documents\\GraphAnalytics\\gaenv\\lib\\site-packages\\sklearn\\neural_network\\_multilayer_perceptron.py:679: ConvergenceWarning: Stochastic Optimizer: Maximum iterations (193) reached and the optimization hasn't converged yet.\n",
      "  warnings.warn(\n",
      "C:\\Users\\jonat\\Documents\\GraphAnalytics\\gaenv\\lib\\site-packages\\sklearn\\neural_network\\_multilayer_perceptron.py:679: ConvergenceWarning: Stochastic Optimizer: Maximum iterations (193) reached and the optimization hasn't converged yet.\n",
      "  warnings.warn(\n",
      "C:\\Users\\jonat\\Documents\\GraphAnalytics\\gaenv\\lib\\site-packages\\sklearn\\neural_network\\_multilayer_perceptron.py:679: ConvergenceWarning: Stochastic Optimizer: Maximum iterations (193) reached and the optimization hasn't converged yet.\n",
      "  warnings.warn(\n",
      "C:\\Users\\jonat\\Documents\\GraphAnalytics\\gaenv\\lib\\site-packages\\sklearn\\neural_network\\_multilayer_perceptron.py:679: ConvergenceWarning: Stochastic Optimizer: Maximum iterations (193) reached and the optimization hasn't converged yet.\n",
      "  warnings.warn(\n",
      "C:\\Users\\jonat\\Documents\\GraphAnalytics\\gaenv\\lib\\site-packages\\sklearn\\neural_network\\_multilayer_perceptron.py:679: ConvergenceWarning: Stochastic Optimizer: Maximum iterations (193) reached and the optimization hasn't converged yet.\n",
      "  warnings.warn(\n",
      "C:\\Users\\jonat\\Documents\\GraphAnalytics\\gaenv\\lib\\site-packages\\sklearn\\neural_network\\_multilayer_perceptron.py:679: ConvergenceWarning: Stochastic Optimizer: Maximum iterations (193) reached and the optimization hasn't converged yet.\n",
      "  warnings.warn(\n",
      "C:\\Users\\jonat\\Documents\\GraphAnalytics\\gaenv\\lib\\site-packages\\sklearn\\neural_network\\_multilayer_perceptron.py:679: ConvergenceWarning: Stochastic Optimizer: Maximum iterations (193) reached and the optimization hasn't converged yet.\n",
      "  warnings.warn(\n"
     ]
    },
    {
     "data": {
      "text/html": [
       "<style>#sk-container-id-1 {color: black;background-color: white;}#sk-container-id-1 pre{padding: 0;}#sk-container-id-1 div.sk-toggleable {background-color: white;}#sk-container-id-1 label.sk-toggleable__label {cursor: pointer;display: block;width: 100%;margin-bottom: 0;padding: 0.3em;box-sizing: border-box;text-align: center;}#sk-container-id-1 label.sk-toggleable__label-arrow:before {content: \"▸\";float: left;margin-right: 0.25em;color: #696969;}#sk-container-id-1 label.sk-toggleable__label-arrow:hover:before {color: black;}#sk-container-id-1 div.sk-estimator:hover label.sk-toggleable__label-arrow:before {color: black;}#sk-container-id-1 div.sk-toggleable__content {max-height: 0;max-width: 0;overflow: hidden;text-align: left;background-color: #f0f8ff;}#sk-container-id-1 div.sk-toggleable__content pre {margin: 0.2em;color: black;border-radius: 0.25em;background-color: #f0f8ff;}#sk-container-id-1 input.sk-toggleable__control:checked~div.sk-toggleable__content {max-height: 200px;max-width: 100%;overflow: auto;}#sk-container-id-1 input.sk-toggleable__control:checked~label.sk-toggleable__label-arrow:before {content: \"▾\";}#sk-container-id-1 div.sk-estimator input.sk-toggleable__control:checked~label.sk-toggleable__label {background-color: #d4ebff;}#sk-container-id-1 div.sk-label input.sk-toggleable__control:checked~label.sk-toggleable__label {background-color: #d4ebff;}#sk-container-id-1 input.sk-hidden--visually {border: 0;clip: rect(1px 1px 1px 1px);clip: rect(1px, 1px, 1px, 1px);height: 1px;margin: -1px;overflow: hidden;padding: 0;position: absolute;width: 1px;}#sk-container-id-1 div.sk-estimator {font-family: monospace;background-color: #f0f8ff;border: 1px dotted black;border-radius: 0.25em;box-sizing: border-box;margin-bottom: 0.5em;}#sk-container-id-1 div.sk-estimator:hover {background-color: #d4ebff;}#sk-container-id-1 div.sk-parallel-item::after {content: \"\";width: 100%;border-bottom: 1px solid gray;flex-grow: 1;}#sk-container-id-1 div.sk-label:hover label.sk-toggleable__label {background-color: #d4ebff;}#sk-container-id-1 div.sk-serial::before {content: \"\";position: absolute;border-left: 1px solid gray;box-sizing: border-box;top: 0;bottom: 0;left: 50%;z-index: 0;}#sk-container-id-1 div.sk-serial {display: flex;flex-direction: column;align-items: center;background-color: white;padding-right: 0.2em;padding-left: 0.2em;position: relative;}#sk-container-id-1 div.sk-item {position: relative;z-index: 1;}#sk-container-id-1 div.sk-parallel {display: flex;align-items: stretch;justify-content: center;background-color: white;position: relative;}#sk-container-id-1 div.sk-item::before, #sk-container-id-1 div.sk-parallel-item::before {content: \"\";position: absolute;border-left: 1px solid gray;box-sizing: border-box;top: 0;bottom: 0;left: 50%;z-index: -1;}#sk-container-id-1 div.sk-parallel-item {display: flex;flex-direction: column;z-index: 1;position: relative;background-color: white;}#sk-container-id-1 div.sk-parallel-item:first-child::after {align-self: flex-end;width: 50%;}#sk-container-id-1 div.sk-parallel-item:last-child::after {align-self: flex-start;width: 50%;}#sk-container-id-1 div.sk-parallel-item:only-child::after {width: 0;}#sk-container-id-1 div.sk-dashed-wrapped {border: 1px dashed gray;margin: 0 0.4em 0.5em 0.4em;box-sizing: border-box;padding-bottom: 0.4em;background-color: white;}#sk-container-id-1 div.sk-label label {font-family: monospace;font-weight: bold;display: inline-block;line-height: 1.2em;}#sk-container-id-1 div.sk-label-container {text-align: center;}#sk-container-id-1 div.sk-container {/* jupyter's `normalize.less` sets `[hidden] { display: none; }` but bootstrap.min.css set `[hidden] { display: none !important; }` so we also need the `!important` here to be able to override the default hidden behavior on the sphinx rendered scikit-learn.org. See: https://github.com/scikit-learn/scikit-learn/issues/21755 */display: inline-block !important;position: relative;}#sk-container-id-1 div.sk-text-repr-fallback {display: none;}</style><div id=\"sk-container-id-1\" class=\"sk-top-container\"><div class=\"sk-text-repr-fallback\"><pre>BayesSearchCV(cv=7,\n",
       "              estimator=OvrMLP(activation=&#x27;tanh&#x27;, alpha=0.001, batch_size=200,\n",
       "                               hidden_layer_sizes=100, learning_rate=&#x27;constant&#x27;,\n",
       "                               learning_rate_init=0.01, max_iter=200,\n",
       "                               shuffle=True, solver=&#x27;adam&#x27;, warm_start=True),\n",
       "              n_jobs=-1,\n",
       "              search_spaces={&#x27;activation&#x27;: [&#x27;identity&#x27;, &#x27;logistic&#x27;, &#x27;relu&#x27;,\n",
       "                                            &#x27;tanh&#x27;],\n",
       "                             &#x27;alpha&#x27;: (1e-05, 0.01, &#x27;log-uniform&#x27;),\n",
       "                             &#x27;batch_size&#x27;: [50, 100, 200, 500],\n",
       "                             &#x27;hidden_layer_sizes&#x27;: [100, 200, 50],\n",
       "                             &#x27;learning_rate&#x27;: [&#x27;constant&#x27;, &#x27;invscaling&#x27;,\n",
       "                                               &#x27;adaptive&#x27;],\n",
       "                             &#x27;learning_rate_init&#x27;: (0.0001, 0.1, &#x27;log-uniform&#x27;),\n",
       "                             &#x27;max_iter&#x27;: (50, 200), &#x27;shuffle&#x27;: [True, False],\n",
       "                             &#x27;solver&#x27;: [&#x27;lbfgs&#x27;, &#x27;sgd&#x27;, &#x27;adam&#x27;],\n",
       "                             &#x27;warm_start&#x27;: [True, False]})</pre><b>In a Jupyter environment, please rerun this cell to show the HTML representation or trust the notebook. <br />On GitHub, the HTML representation is unable to render, please try loading this page with nbviewer.org.</b></div><div class=\"sk-container\" hidden><div class=\"sk-item sk-dashed-wrapped\"><div class=\"sk-label-container\"><div class=\"sk-label sk-toggleable\"><input class=\"sk-toggleable__control sk-hidden--visually\" id=\"sk-estimator-id-1\" type=\"checkbox\" ><label for=\"sk-estimator-id-1\" class=\"sk-toggleable__label sk-toggleable__label-arrow\">BayesSearchCV</label><div class=\"sk-toggleable__content\"><pre>BayesSearchCV(cv=7,\n",
       "              estimator=OvrMLP(activation=&#x27;tanh&#x27;, alpha=0.001, batch_size=200,\n",
       "                               hidden_layer_sizes=100, learning_rate=&#x27;constant&#x27;,\n",
       "                               learning_rate_init=0.01, max_iter=200,\n",
       "                               shuffle=True, solver=&#x27;adam&#x27;, warm_start=True),\n",
       "              n_jobs=-1,\n",
       "              search_spaces={&#x27;activation&#x27;: [&#x27;identity&#x27;, &#x27;logistic&#x27;, &#x27;relu&#x27;,\n",
       "                                            &#x27;tanh&#x27;],\n",
       "                             &#x27;alpha&#x27;: (1e-05, 0.01, &#x27;log-uniform&#x27;),\n",
       "                             &#x27;batch_size&#x27;: [50, 100, 200, 500],\n",
       "                             &#x27;hidden_layer_sizes&#x27;: [100, 200, 50],\n",
       "                             &#x27;learning_rate&#x27;: [&#x27;constant&#x27;, &#x27;invscaling&#x27;,\n",
       "                                               &#x27;adaptive&#x27;],\n",
       "                             &#x27;learning_rate_init&#x27;: (0.0001, 0.1, &#x27;log-uniform&#x27;),\n",
       "                             &#x27;max_iter&#x27;: (50, 200), &#x27;shuffle&#x27;: [True, False],\n",
       "                             &#x27;solver&#x27;: [&#x27;lbfgs&#x27;, &#x27;sgd&#x27;, &#x27;adam&#x27;],\n",
       "                             &#x27;warm_start&#x27;: [True, False]})</pre></div></div></div><div class=\"sk-parallel\"><div class=\"sk-parallel-item\"><div class=\"sk-item\"><div class=\"sk-label-container\"><div class=\"sk-label sk-toggleable\"><input class=\"sk-toggleable__control sk-hidden--visually\" id=\"sk-estimator-id-2\" type=\"checkbox\" ><label for=\"sk-estimator-id-2\" class=\"sk-toggleable__label sk-toggleable__label-arrow\">estimator: OvrMLP</label><div class=\"sk-toggleable__content\"><pre>OvrMLP(activation=&#x27;tanh&#x27;, alpha=0.001, batch_size=200, hidden_layer_sizes=100,\n",
       "       learning_rate=&#x27;constant&#x27;, learning_rate_init=0.01, max_iter=200,\n",
       "       shuffle=True, solver=&#x27;adam&#x27;, warm_start=True)</pre></div></div></div><div class=\"sk-serial\"><div class=\"sk-item\"><div class=\"sk-estimator sk-toggleable\"><input class=\"sk-toggleable__control sk-hidden--visually\" id=\"sk-estimator-id-3\" type=\"checkbox\" ><label for=\"sk-estimator-id-3\" class=\"sk-toggleable__label sk-toggleable__label-arrow\">OvrMLP</label><div class=\"sk-toggleable__content\"><pre>OvrMLP(activation=&#x27;tanh&#x27;, alpha=0.001, batch_size=200, hidden_layer_sizes=100,\n",
       "       learning_rate=&#x27;constant&#x27;, learning_rate_init=0.01, max_iter=200,\n",
       "       shuffle=True, solver=&#x27;adam&#x27;, warm_start=True)</pre></div></div></div></div></div></div></div></div></div></div>"
      ],
      "text/plain": [
       "BayesSearchCV(cv=7,\n",
       "              estimator=OvrMLP(activation='tanh', alpha=0.001, batch_size=200,\n",
       "                               hidden_layer_sizes=100, learning_rate='constant',\n",
       "                               learning_rate_init=0.01, max_iter=200,\n",
       "                               shuffle=True, solver='adam', warm_start=True),\n",
       "              n_jobs=-1,\n",
       "              search_spaces={'activation': ['identity', 'logistic', 'relu',\n",
       "                                            'tanh'],\n",
       "                             'alpha': (1e-05, 0.01, 'log-uniform'),\n",
       "                             'batch_size': [50, 100, 200, 500],\n",
       "                             'hidden_layer_sizes': [100, 200, 50],\n",
       "                             'learning_rate': ['constant', 'invscaling',\n",
       "                                               'adaptive'],\n",
       "                             'learning_rate_init': (0.0001, 0.1, 'log-uniform'),\n",
       "                             'max_iter': (50, 200), 'shuffle': [True, False],\n",
       "                             'solver': ['lbfgs', 'sgd', 'adam'],\n",
       "                             'warm_start': [True, False]})"
      ]
     },
     "execution_count": 8,
     "metadata": {},
     "output_type": "execute_result"
    }
   ],
   "source": [
    "search_space = {\n",
    "    'hidden_layer_sizes': [(100), (200), (50)],\n",
    "    'activation': ['identity', 'logistic', 'relu', 'tanh'],\n",
    "    'solver': ['lbfgs', 'sgd', 'adam'],\n",
    "    'alpha': (1e-5, 1e-2, 'log-uniform'),\n",
    "    'batch_size': [50, 100, 200, 500],\n",
    "    'learning_rate': ['constant', 'invscaling', 'adaptive'],\n",
    "    'learning_rate_init': (0.0001, 0.1, 'log-uniform'),\n",
    "    'max_iter': (50, 200),\n",
    "    'shuffle': [True, False],\n",
    "    'warm_start':[True, False],\n",
    "    \n",
    "}\n",
    "\n",
    "test = OvrMLP((100), activation = 'tanh', solver = 'adam', alpha= 0.001,learning_rate='constant', \n",
    "                learning_rate_init= 0.01, batch_size=200, max_iter = 200, shuffle = True, warm_start = True)\n",
    "opt = BayesSearchCV(test, search_space, n_iter=50, cv=7, n_jobs=-1)\n",
    "opt.fit(X_train, Y_train)"
   ]
  },
  {
   "cell_type": "code",
   "execution_count": 9,
   "id": "3da19182-c216-4d98-8fec-617c49d85af5",
   "metadata": {},
   "outputs": [
    {
     "name": "stdout",
     "output_type": "stream",
     "text": [
      "Best parameters found:  OrderedDict([('activation', 'logistic'), ('alpha', 0.005319677452419251), ('batch_size', 200), ('hidden_layer_sizes', 100), ('learning_rate', 'constant'), ('learning_rate_init', 0.0041260189221123044), ('max_iter', 193), ('shuffle', True), ('solver', 'lbfgs'), ('warm_start', True)])\n",
      "Best score:  0.19033546122739642\n"
     ]
    }
   ],
   "source": [
    "print(\"Best parameters found: \", opt.best_params_)\n",
    "print(\"Best score: \", opt.best_score_)"
   ]
  },
  {
   "cell_type": "code",
   "execution_count": 11,
   "id": "ae6950b6-582b-4dc8-8724-40b42509a748",
   "metadata": {},
   "outputs": [
    {
     "data": {
      "text/html": [
       "<style>#sk-container-id-2 {color: black;background-color: white;}#sk-container-id-2 pre{padding: 0;}#sk-container-id-2 div.sk-toggleable {background-color: white;}#sk-container-id-2 label.sk-toggleable__label {cursor: pointer;display: block;width: 100%;margin-bottom: 0;padding: 0.3em;box-sizing: border-box;text-align: center;}#sk-container-id-2 label.sk-toggleable__label-arrow:before {content: \"▸\";float: left;margin-right: 0.25em;color: #696969;}#sk-container-id-2 label.sk-toggleable__label-arrow:hover:before {color: black;}#sk-container-id-2 div.sk-estimator:hover label.sk-toggleable__label-arrow:before {color: black;}#sk-container-id-2 div.sk-toggleable__content {max-height: 0;max-width: 0;overflow: hidden;text-align: left;background-color: #f0f8ff;}#sk-container-id-2 div.sk-toggleable__content pre {margin: 0.2em;color: black;border-radius: 0.25em;background-color: #f0f8ff;}#sk-container-id-2 input.sk-toggleable__control:checked~div.sk-toggleable__content {max-height: 200px;max-width: 100%;overflow: auto;}#sk-container-id-2 input.sk-toggleable__control:checked~label.sk-toggleable__label-arrow:before {content: \"▾\";}#sk-container-id-2 div.sk-estimator input.sk-toggleable__control:checked~label.sk-toggleable__label {background-color: #d4ebff;}#sk-container-id-2 div.sk-label input.sk-toggleable__control:checked~label.sk-toggleable__label {background-color: #d4ebff;}#sk-container-id-2 input.sk-hidden--visually {border: 0;clip: rect(1px 1px 1px 1px);clip: rect(1px, 1px, 1px, 1px);height: 1px;margin: -1px;overflow: hidden;padding: 0;position: absolute;width: 1px;}#sk-container-id-2 div.sk-estimator {font-family: monospace;background-color: #f0f8ff;border: 1px dotted black;border-radius: 0.25em;box-sizing: border-box;margin-bottom: 0.5em;}#sk-container-id-2 div.sk-estimator:hover {background-color: #d4ebff;}#sk-container-id-2 div.sk-parallel-item::after {content: \"\";width: 100%;border-bottom: 1px solid gray;flex-grow: 1;}#sk-container-id-2 div.sk-label:hover label.sk-toggleable__label {background-color: #d4ebff;}#sk-container-id-2 div.sk-serial::before {content: \"\";position: absolute;border-left: 1px solid gray;box-sizing: border-box;top: 0;bottom: 0;left: 50%;z-index: 0;}#sk-container-id-2 div.sk-serial {display: flex;flex-direction: column;align-items: center;background-color: white;padding-right: 0.2em;padding-left: 0.2em;position: relative;}#sk-container-id-2 div.sk-item {position: relative;z-index: 1;}#sk-container-id-2 div.sk-parallel {display: flex;align-items: stretch;justify-content: center;background-color: white;position: relative;}#sk-container-id-2 div.sk-item::before, #sk-container-id-2 div.sk-parallel-item::before {content: \"\";position: absolute;border-left: 1px solid gray;box-sizing: border-box;top: 0;bottom: 0;left: 50%;z-index: -1;}#sk-container-id-2 div.sk-parallel-item {display: flex;flex-direction: column;z-index: 1;position: relative;background-color: white;}#sk-container-id-2 div.sk-parallel-item:first-child::after {align-self: flex-end;width: 50%;}#sk-container-id-2 div.sk-parallel-item:last-child::after {align-self: flex-start;width: 50%;}#sk-container-id-2 div.sk-parallel-item:only-child::after {width: 0;}#sk-container-id-2 div.sk-dashed-wrapped {border: 1px dashed gray;margin: 0 0.4em 0.5em 0.4em;box-sizing: border-box;padding-bottom: 0.4em;background-color: white;}#sk-container-id-2 div.sk-label label {font-family: monospace;font-weight: bold;display: inline-block;line-height: 1.2em;}#sk-container-id-2 div.sk-label-container {text-align: center;}#sk-container-id-2 div.sk-container {/* jupyter's `normalize.less` sets `[hidden] { display: none; }` but bootstrap.min.css set `[hidden] { display: none !important; }` so we also need the `!important` here to be able to override the default hidden behavior on the sphinx rendered scikit-learn.org. See: https://github.com/scikit-learn/scikit-learn/issues/21755 */display: inline-block !important;position: relative;}#sk-container-id-2 div.sk-text-repr-fallback {display: none;}</style><div id=\"sk-container-id-2\" class=\"sk-top-container\"><div class=\"sk-text-repr-fallback\"><pre>OneVsRestClassifier(estimator=MLPClassifier(activation=&#x27;logistic&#x27;, alpha=0.0053,\n",
       "                                            batch_size=200,\n",
       "                                            hidden_layer_sizes=[100],\n",
       "                                            learning_rate_init=0.0041,\n",
       "                                            max_iter=193, solver=&#x27;lbfgs&#x27;,\n",
       "                                            warm_start=True))</pre><b>In a Jupyter environment, please rerun this cell to show the HTML representation or trust the notebook. <br />On GitHub, the HTML representation is unable to render, please try loading this page with nbviewer.org.</b></div><div class=\"sk-container\" hidden><div class=\"sk-item sk-dashed-wrapped\"><div class=\"sk-label-container\"><div class=\"sk-label sk-toggleable\"><input class=\"sk-toggleable__control sk-hidden--visually\" id=\"sk-estimator-id-4\" type=\"checkbox\" ><label for=\"sk-estimator-id-4\" class=\"sk-toggleable__label sk-toggleable__label-arrow\">OneVsRestClassifier</label><div class=\"sk-toggleable__content\"><pre>OneVsRestClassifier(estimator=MLPClassifier(activation=&#x27;logistic&#x27;, alpha=0.0053,\n",
       "                                            batch_size=200,\n",
       "                                            hidden_layer_sizes=[100],\n",
       "                                            learning_rate_init=0.0041,\n",
       "                                            max_iter=193, solver=&#x27;lbfgs&#x27;,\n",
       "                                            warm_start=True))</pre></div></div></div><div class=\"sk-parallel\"><div class=\"sk-parallel-item\"><div class=\"sk-item\"><div class=\"sk-label-container\"><div class=\"sk-label sk-toggleable\"><input class=\"sk-toggleable__control sk-hidden--visually\" id=\"sk-estimator-id-5\" type=\"checkbox\" ><label for=\"sk-estimator-id-5\" class=\"sk-toggleable__label sk-toggleable__label-arrow\">estimator: MLPClassifier</label><div class=\"sk-toggleable__content\"><pre>MLPClassifier(activation=&#x27;logistic&#x27;, alpha=0.0053, batch_size=200,\n",
       "              hidden_layer_sizes=[100], learning_rate_init=0.0041, max_iter=193,\n",
       "              solver=&#x27;lbfgs&#x27;, warm_start=True)</pre></div></div></div><div class=\"sk-serial\"><div class=\"sk-item\"><div class=\"sk-estimator sk-toggleable\"><input class=\"sk-toggleable__control sk-hidden--visually\" id=\"sk-estimator-id-6\" type=\"checkbox\" ><label for=\"sk-estimator-id-6\" class=\"sk-toggleable__label sk-toggleable__label-arrow\">MLPClassifier</label><div class=\"sk-toggleable__content\"><pre>MLPClassifier(activation=&#x27;logistic&#x27;, alpha=0.0053, batch_size=200,\n",
       "              hidden_layer_sizes=[100], learning_rate_init=0.0041, max_iter=193,\n",
       "              solver=&#x27;lbfgs&#x27;, warm_start=True)</pre></div></div></div></div></div></div></div></div></div></div>"
      ],
      "text/plain": [
       "OneVsRestClassifier(estimator=MLPClassifier(activation='logistic', alpha=0.0053,\n",
       "                                            batch_size=200,\n",
       "                                            hidden_layer_sizes=[100],\n",
       "                                            learning_rate_init=0.0041,\n",
       "                                            max_iter=193, solver='lbfgs',\n",
       "                                            warm_start=True))"
      ]
     },
     "execution_count": 11,
     "metadata": {},
     "output_type": "execute_result"
    }
   ],
   "source": [
    "import warnings\n",
    "warnings.filterwarnings(\"ignore\")\n",
    "mlp = MLPClassifier(activation = 'logistic',hidden_layer_sizes = [100] ,solver = 'lbfgs',alpha = 0.0053, batch_size = 200, \n",
    "                    learning_rate='constant', learning_rate_init=0.0041, max_iter = 193, warm_start=True, shuffle=True)\n",
    "ovr = OneVsRestClassifier(mlp)\n",
    "ovr.fit(X_train, Y_train)"
   ]
  },
  {
   "cell_type": "code",
   "execution_count": 12,
   "id": "022e72c6-2b8a-4a8b-9b63-98aec9a07172",
   "metadata": {},
   "outputs": [
    {
     "name": "stdout",
     "output_type": "stream",
     "text": [
      "[[[6148  169]\n",
      "  [ 371   17]]\n",
      "\n",
      " [[6139   61]\n",
      "  [ 492   13]]\n",
      "\n",
      " [[6045  209]\n",
      "  [ 439   12]]\n",
      "\n",
      " [[4946 1122]\n",
      "  [ 465  172]]\n",
      "\n",
      " [[3920 2025]\n",
      "  [ 449  311]]\n",
      "\n",
      " [[5285  738]\n",
      "  [ 582  100]]\n",
      "\n",
      " [[4215 1769]\n",
      "  [ 483  238]]\n",
      "\n",
      " [[5659  420]\n",
      "  [ 570   56]]\n",
      "\n",
      " [[5918  210]\n",
      "  [ 554   23]]\n",
      "\n",
      " [[5802  323]\n",
      "  [ 540   40]]\n",
      "\n",
      " [[3414 2513]\n",
      "  [ 419  359]]]\n"
     ]
    }
   ],
   "source": [
    "pred = ovr.predict(X_test)\n",
    "m = multilabel_confusion_matrix(Y_test, pred)\n",
    "print(m)"
   ]
  },
  {
   "cell_type": "code",
   "execution_count": 14,
   "id": "8cf11447-689b-4f90-bf57-9d858e375900",
   "metadata": {},
   "outputs": [
    {
     "data": {
      "text/plain": [
       "array([[6148,  169],\n",
       "       [ 371,   17]], dtype=int64)"
      ]
     },
     "execution_count": 14,
     "metadata": {},
     "output_type": "execute_result"
    }
   ],
   "source": [
    "m[0]"
   ]
  },
  {
   "cell_type": "code",
   "execution_count": null,
   "id": "5f1e0def-5cf4-4515-917d-d45c348ab27e",
   "metadata": {},
   "outputs": [],
   "source": []
  }
 ],
 "metadata": {
  "kernelspec": {
   "display_name": "Python 3 (ipykernel)",
   "language": "python",
   "name": "python3"
  },
  "language_info": {
   "codemirror_mode": {
    "name": "ipython",
    "version": 3
   },
   "file_extension": ".py",
   "mimetype": "text/x-python",
   "name": "python",
   "nbconvert_exporter": "python",
   "pygments_lexer": "ipython3",
   "version": "3.10.11"
  }
 },
 "nbformat": 4,
 "nbformat_minor": 5
}
