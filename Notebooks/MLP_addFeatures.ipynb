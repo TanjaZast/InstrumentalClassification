{
 "cells": [
  {
   "cell_type": "code",
   "execution_count": 3,
   "id": "b2c26f9c-4f74-4996-bfa4-1bd3e02d3f0f",
   "metadata": {},
   "outputs": [],
   "source": [
    "from sklearn.neural_network import MLPClassifier\n",
    "import numpy as np\n",
    "from sklearn.model_selection import train_test_split\n",
    "from sklearn.multioutput import ClassifierChain\n",
    "from sklearn.metrics import jaccard_score, multilabel_confusion_matrix\n",
    "import matplotlib.pyplot as plt\n",
    "from sklearn.multiclass import OneVsRestClassifier\n",
    "from sklearn.model_selection import cross_val_score\n",
    "from sklearn.model_selection import cross_validate\n",
    "from skopt import BayesSearchCV\n",
    "from sklearn import preprocessing\n",
    "from sklearn.base import BaseEstimator, ClassifierMixin"
   ]
  },
  {
   "cell_type": "code",
   "execution_count": 9,
   "id": "5780c7b9-279e-4554-b0ec-4062b8cadd56",
   "metadata": {},
   "outputs": [],
   "source": [
    "x = np.load('../Part1.npy')\n",
    "Y_t = np.load('../train.npy/y_train.npy')\n",
    "#X_train = (x-np.min(x))/(np.max(x)-np.min(x))\n",
    "xt = np.load('../Part2.npy')\n",
    "Y_te = np.load('../test.npy/Y_Test.npy')\n",
    "#X_test = (xt-np.min(xt))/(np.max(xt)-np.min(xt))\n",
    "x_add = np.load('../Part3.npy')\n",
    "y_add = np.load('../additional.npy/Y_additional.npy')\n",
    "#x_add = (x_add-np.min(x_add))/(np.max(x_add)-np.min(x_add))\n",
    "Y = np.concatenate((Y_t, Y_te, y_add))\n",
    "X = np.concatenate((x, xt, x_add))\n",
    "#X_train = (X_train-np.min(X_train))/(np.max(X_train)-np.min(X_train))\n",
    "scaler = preprocessing.StandardScaler().fit(X)\n",
    "X = scaler.transform(X)"
   ]
  },
  {
   "cell_type": "code",
   "execution_count": 10,
   "id": "eb1c4d79-2cbe-4795-98c7-dba772cfed11",
   "metadata": {},
   "outputs": [],
   "source": [
    "X_train, X_test, Y_train, Y_test = train_test_split(X, Y)"
   ]
  },
  {
   "cell_type": "code",
   "execution_count": 11,
   "id": "ca380b0a-8783-4f31-ab90-c519d9e3c6e4",
   "metadata": {},
   "outputs": [],
   "source": [
    "class ChainMLP(BaseEstimator, ClassifierMixin):\n",
    "    def __init__(self, hidden_layer_sizes, activation, solver, alpha, batch_size, learning_rate, learning_rate_init, \n",
    "                 max_iter, shuffle, warm_start):\n",
    "        super(ChainMLP, self).__init__()\n",
    "        self.activation = activation\n",
    "        self.hidden_layer_sizes = hidden_layer_sizes\n",
    "        self.alpha = alpha\n",
    "        self.learning_rate_init = learning_rate_init\n",
    "        self.max_iter = max_iter\n",
    "        self.model = MLPClassifier(activation = activation, hidden_layer_sizes = hidden_layer_sizes ,solver = 'adam',\n",
    "                                   alpha = alpha, batch_size = 200, learning_rate_init= learning_rate_init, max_iter = max_iter)\n",
    "        self.chain = ClassifierChain(self.model, order=\"random\", random_state=1)\n",
    "        self.solver = solver\n",
    "        self.batch_size = batch_size\n",
    "        self.learning_rate = learning_rate\n",
    "        self.shuffle = shuffle\n",
    "        self.warm_start = warm_start\n",
    "    def fit(self, X_train, Y_train):\n",
    "        #self.chain = ClassifierChain(self.model, order=\"random\", random_state=1)\n",
    "        return self.chain.fit(X_train, Y_train)\n",
    "    \n",
    "    def score(self, X_test, Y_test):\n",
    "        Y_pred_chain = self.chain.predict(X_test)\n",
    "        chain_jaccard_score = jaccard_score(Y_test, Y_pred_chain >= 0.5, average=\"samples\")\n",
    "        return chain_jaccard_score\n",
    "        \n"
   ]
  },
  {
   "cell_type": "code",
   "execution_count": 12,
   "id": "82f13a6a-1c77-41f0-a8e8-0cd77854cb0e",
   "metadata": {},
   "outputs": [
    {
     "data": {
      "text/html": [
       "<style>#sk-container-id-2 {color: black;background-color: white;}#sk-container-id-2 pre{padding: 0;}#sk-container-id-2 div.sk-toggleable {background-color: white;}#sk-container-id-2 label.sk-toggleable__label {cursor: pointer;display: block;width: 100%;margin-bottom: 0;padding: 0.3em;box-sizing: border-box;text-align: center;}#sk-container-id-2 label.sk-toggleable__label-arrow:before {content: \"▸\";float: left;margin-right: 0.25em;color: #696969;}#sk-container-id-2 label.sk-toggleable__label-arrow:hover:before {color: black;}#sk-container-id-2 div.sk-estimator:hover label.sk-toggleable__label-arrow:before {color: black;}#sk-container-id-2 div.sk-toggleable__content {max-height: 0;max-width: 0;overflow: hidden;text-align: left;background-color: #f0f8ff;}#sk-container-id-2 div.sk-toggleable__content pre {margin: 0.2em;color: black;border-radius: 0.25em;background-color: #f0f8ff;}#sk-container-id-2 input.sk-toggleable__control:checked~div.sk-toggleable__content {max-height: 200px;max-width: 100%;overflow: auto;}#sk-container-id-2 input.sk-toggleable__control:checked~label.sk-toggleable__label-arrow:before {content: \"▾\";}#sk-container-id-2 div.sk-estimator input.sk-toggleable__control:checked~label.sk-toggleable__label {background-color: #d4ebff;}#sk-container-id-2 div.sk-label input.sk-toggleable__control:checked~label.sk-toggleable__label {background-color: #d4ebff;}#sk-container-id-2 input.sk-hidden--visually {border: 0;clip: rect(1px 1px 1px 1px);clip: rect(1px, 1px, 1px, 1px);height: 1px;margin: -1px;overflow: hidden;padding: 0;position: absolute;width: 1px;}#sk-container-id-2 div.sk-estimator {font-family: monospace;background-color: #f0f8ff;border: 1px dotted black;border-radius: 0.25em;box-sizing: border-box;margin-bottom: 0.5em;}#sk-container-id-2 div.sk-estimator:hover {background-color: #d4ebff;}#sk-container-id-2 div.sk-parallel-item::after {content: \"\";width: 100%;border-bottom: 1px solid gray;flex-grow: 1;}#sk-container-id-2 div.sk-label:hover label.sk-toggleable__label {background-color: #d4ebff;}#sk-container-id-2 div.sk-serial::before {content: \"\";position: absolute;border-left: 1px solid gray;box-sizing: border-box;top: 0;bottom: 0;left: 50%;z-index: 0;}#sk-container-id-2 div.sk-serial {display: flex;flex-direction: column;align-items: center;background-color: white;padding-right: 0.2em;padding-left: 0.2em;position: relative;}#sk-container-id-2 div.sk-item {position: relative;z-index: 1;}#sk-container-id-2 div.sk-parallel {display: flex;align-items: stretch;justify-content: center;background-color: white;position: relative;}#sk-container-id-2 div.sk-item::before, #sk-container-id-2 div.sk-parallel-item::before {content: \"\";position: absolute;border-left: 1px solid gray;box-sizing: border-box;top: 0;bottom: 0;left: 50%;z-index: -1;}#sk-container-id-2 div.sk-parallel-item {display: flex;flex-direction: column;z-index: 1;position: relative;background-color: white;}#sk-container-id-2 div.sk-parallel-item:first-child::after {align-self: flex-end;width: 50%;}#sk-container-id-2 div.sk-parallel-item:last-child::after {align-self: flex-start;width: 50%;}#sk-container-id-2 div.sk-parallel-item:only-child::after {width: 0;}#sk-container-id-2 div.sk-dashed-wrapped {border: 1px dashed gray;margin: 0 0.4em 0.5em 0.4em;box-sizing: border-box;padding-bottom: 0.4em;background-color: white;}#sk-container-id-2 div.sk-label label {font-family: monospace;font-weight: bold;display: inline-block;line-height: 1.2em;}#sk-container-id-2 div.sk-label-container {text-align: center;}#sk-container-id-2 div.sk-container {/* jupyter's `normalize.less` sets `[hidden] { display: none; }` but bootstrap.min.css set `[hidden] { display: none !important; }` so we also need the `!important` here to be able to override the default hidden behavior on the sphinx rendered scikit-learn.org. See: https://github.com/scikit-learn/scikit-learn/issues/21755 */display: inline-block !important;position: relative;}#sk-container-id-2 div.sk-text-repr-fallback {display: none;}</style><div id=\"sk-container-id-2\" class=\"sk-top-container\"><div class=\"sk-text-repr-fallback\"><pre>BayesSearchCV(cv=7,\n",
       "              estimator=ChainMLP(activation=&#x27;tanh&#x27;, alpha=0.001, batch_size=200,\n",
       "                                 hidden_layer_sizes=100,\n",
       "                                 learning_rate=&#x27;constant&#x27;,\n",
       "                                 learning_rate_init=0.01, max_iter=200,\n",
       "                                 shuffle=True, solver=&#x27;adam&#x27;, warm_start=True),\n",
       "              n_jobs=-1,\n",
       "              search_spaces={&#x27;activation&#x27;: [&#x27;identity&#x27;, &#x27;logistic&#x27;, &#x27;relu&#x27;,\n",
       "                                            &#x27;tanh&#x27;],\n",
       "                             &#x27;alpha&#x27;: (1e-05, 0.01, &#x27;log-uniform&#x27;),\n",
       "                             &#x27;batch_size&#x27;: [50, 100, 200, 500],\n",
       "                             &#x27;hidden_layer_sizes&#x27;: [100, 200, 50],\n",
       "                             &#x27;learning_rate&#x27;: [&#x27;constant&#x27;, &#x27;invscaling&#x27;,\n",
       "                                               &#x27;adaptive&#x27;],\n",
       "                             &#x27;learning_rate_init&#x27;: (0.0001, 0.1, &#x27;log-uniform&#x27;),\n",
       "                             &#x27;max_iter&#x27;: (50, 200), &#x27;shuffle&#x27;: [True, False],\n",
       "                             &#x27;solver&#x27;: [&#x27;lbfgs&#x27;, &#x27;sgd&#x27;, &#x27;adam&#x27;],\n",
       "                             &#x27;warm_start&#x27;: [True, False]})</pre><b>In a Jupyter environment, please rerun this cell to show the HTML representation or trust the notebook. <br />On GitHub, the HTML representation is unable to render, please try loading this page with nbviewer.org.</b></div><div class=\"sk-container\" hidden><div class=\"sk-item sk-dashed-wrapped\"><div class=\"sk-label-container\"><div class=\"sk-label sk-toggleable\"><input class=\"sk-toggleable__control sk-hidden--visually\" id=\"sk-estimator-id-4\" type=\"checkbox\" ><label for=\"sk-estimator-id-4\" class=\"sk-toggleable__label sk-toggleable__label-arrow\">BayesSearchCV</label><div class=\"sk-toggleable__content\"><pre>BayesSearchCV(cv=7,\n",
       "              estimator=ChainMLP(activation=&#x27;tanh&#x27;, alpha=0.001, batch_size=200,\n",
       "                                 hidden_layer_sizes=100,\n",
       "                                 learning_rate=&#x27;constant&#x27;,\n",
       "                                 learning_rate_init=0.01, max_iter=200,\n",
       "                                 shuffle=True, solver=&#x27;adam&#x27;, warm_start=True),\n",
       "              n_jobs=-1,\n",
       "              search_spaces={&#x27;activation&#x27;: [&#x27;identity&#x27;, &#x27;logistic&#x27;, &#x27;relu&#x27;,\n",
       "                                            &#x27;tanh&#x27;],\n",
       "                             &#x27;alpha&#x27;: (1e-05, 0.01, &#x27;log-uniform&#x27;),\n",
       "                             &#x27;batch_size&#x27;: [50, 100, 200, 500],\n",
       "                             &#x27;hidden_layer_sizes&#x27;: [100, 200, 50],\n",
       "                             &#x27;learning_rate&#x27;: [&#x27;constant&#x27;, &#x27;invscaling&#x27;,\n",
       "                                               &#x27;adaptive&#x27;],\n",
       "                             &#x27;learning_rate_init&#x27;: (0.0001, 0.1, &#x27;log-uniform&#x27;),\n",
       "                             &#x27;max_iter&#x27;: (50, 200), &#x27;shuffle&#x27;: [True, False],\n",
       "                             &#x27;solver&#x27;: [&#x27;lbfgs&#x27;, &#x27;sgd&#x27;, &#x27;adam&#x27;],\n",
       "                             &#x27;warm_start&#x27;: [True, False]})</pre></div></div></div><div class=\"sk-parallel\"><div class=\"sk-parallel-item\"><div class=\"sk-item\"><div class=\"sk-label-container\"><div class=\"sk-label sk-toggleable\"><input class=\"sk-toggleable__control sk-hidden--visually\" id=\"sk-estimator-id-5\" type=\"checkbox\" ><label for=\"sk-estimator-id-5\" class=\"sk-toggleable__label sk-toggleable__label-arrow\">estimator: ChainMLP</label><div class=\"sk-toggleable__content\"><pre>ChainMLP(activation=&#x27;tanh&#x27;, alpha=0.001, batch_size=200, hidden_layer_sizes=100,\n",
       "         learning_rate=&#x27;constant&#x27;, learning_rate_init=0.01, max_iter=200,\n",
       "         shuffle=True, solver=&#x27;adam&#x27;, warm_start=True)</pre></div></div></div><div class=\"sk-serial\"><div class=\"sk-item\"><div class=\"sk-estimator sk-toggleable\"><input class=\"sk-toggleable__control sk-hidden--visually\" id=\"sk-estimator-id-6\" type=\"checkbox\" ><label for=\"sk-estimator-id-6\" class=\"sk-toggleable__label sk-toggleable__label-arrow\">ChainMLP</label><div class=\"sk-toggleable__content\"><pre>ChainMLP(activation=&#x27;tanh&#x27;, alpha=0.001, batch_size=200, hidden_layer_sizes=100,\n",
       "         learning_rate=&#x27;constant&#x27;, learning_rate_init=0.01, max_iter=200,\n",
       "         shuffle=True, solver=&#x27;adam&#x27;, warm_start=True)</pre></div></div></div></div></div></div></div></div></div></div>"
      ],
      "text/plain": [
       "BayesSearchCV(cv=7,\n",
       "              estimator=ChainMLP(activation='tanh', alpha=0.001, batch_size=200,\n",
       "                                 hidden_layer_sizes=100,\n",
       "                                 learning_rate='constant',\n",
       "                                 learning_rate_init=0.01, max_iter=200,\n",
       "                                 shuffle=True, solver='adam', warm_start=True),\n",
       "              n_jobs=-1,\n",
       "              search_spaces={'activation': ['identity', 'logistic', 'relu',\n",
       "                                            'tanh'],\n",
       "                             'alpha': (1e-05, 0.01, 'log-uniform'),\n",
       "                             'batch_size': [50, 100, 200, 500],\n",
       "                             'hidden_layer_sizes': [100, 200, 50],\n",
       "                             'learning_rate': ['constant', 'invscaling',\n",
       "                                               'adaptive'],\n",
       "                             'learning_rate_init': (0.0001, 0.1, 'log-uniform'),\n",
       "                             'max_iter': (50, 200), 'shuffle': [True, False],\n",
       "                             'solver': ['lbfgs', 'sgd', 'adam'],\n",
       "                             'warm_start': [True, False]})"
      ]
     },
     "execution_count": 12,
     "metadata": {},
     "output_type": "execute_result"
    }
   ],
   "source": [
    "search_space = {\n",
    "    'hidden_layer_sizes': [(100), (200), (50)],#, (40, 20), (50, 30)],\n",
    "    'activation': ['identity', 'logistic', 'relu', 'tanh'],\n",
    "    'solver': ['lbfgs', 'sgd', 'adam'],\n",
    "    'alpha': (1e-5, 1e-2, 'log-uniform'),\n",
    "    'batch_size': [50, 100, 200, 500],\n",
    "    'learning_rate': ['constant', 'invscaling', 'adaptive'],\n",
    "    'learning_rate_init': (0.0001, 0.1, 'log-uniform'),\n",
    "    'max_iter': (50, 200),\n",
    "    'shuffle': [True, False],\n",
    "    'warm_start':[True, False],\n",
    "    \n",
    "}\n",
    "\n",
    "test = ChainMLP((100), activation = 'tanh', solver = 'adam', alpha= 0.001,learning_rate='constant', \n",
    "                learning_rate_init= 0.01, batch_size=200, max_iter = 200, shuffle = True, warm_start = True)\n",
    "opt = BayesSearchCV(test, search_space, n_iter=50, cv=7, n_jobs=-1)\n",
    "opt.fit(X_train, Y_train)"
   ]
  },
  {
   "cell_type": "code",
   "execution_count": 13,
   "id": "3ad79734-c3ce-4c5b-8f4f-08c288496e29",
   "metadata": {},
   "outputs": [
    {
     "name": "stdout",
     "output_type": "stream",
     "text": [
      "Best parameters found:  OrderedDict([('activation', 'tanh'), ('alpha', 0.0004926311759039375), ('batch_size', 50), ('hidden_layer_sizes', 100), ('learning_rate', 'constant'), ('learning_rate_init', 0.0073926370411543825), ('max_iter', 144), ('shuffle', True), ('solver', 'lbfgs'), ('warm_start', True)])\n",
      "Best score:  0.5140925307049085\n"
     ]
    }
   ],
   "source": [
    "print(\"Best parameters found: \", opt.best_params_)\n",
    "print(\"Best score: \", opt.best_score_)"
   ]
  },
  {
   "cell_type": "code",
   "execution_count": 14,
   "id": "ff0c3e13-bef0-4f3b-be20-21b3824c7d25",
   "metadata": {},
   "outputs": [],
   "source": [
    "import warnings\n",
    "warnings.filterwarnings(\"ignore\")\n",
    "mlp = MLPClassifier(activation = 'tanh',hidden_layer_sizes = [100] ,solver = 'lbfgs',alpha = 0.00049, batch_size = 50, \n",
    "                    learning_rate='constant', learning_rate_init=0.007, max_iter = 144, warm_start=True, shuffle=True)\n",
    "chains = [ClassifierChain(mlp, order=\"random\", random_state=i) for i in range(10)]\n",
    "for chain in chains:\n",
    "    chain.fit(X_train, Y_train)\n",
    "\n",
    "Y_pred_chains = np.array([chain.predict(X_test) for chain in chains])\n",
    "chain_jaccard_scores = [\n",
    "    jaccard_score(Y_test, Y_pred_chain >= 0.5, average=\"samples\")\n",
    "    for Y_pred_chain in Y_pred_chains\n",
    "]\n",
    "\n",
    "Y_pred_max = Y_pred_chains.max(axis=0)"
   ]
  },
  {
   "cell_type": "code",
   "execution_count": 15,
   "id": "0a2a8010-fa0e-4154-ae1a-bcb699971875",
   "metadata": {},
   "outputs": [],
   "source": [
    "Y_pred_ensemble = Y_pred_chains.mean(axis=0)\n",
    "Y_pred = np.where(Y_pred_ensemble>0.5,1,0)"
   ]
  },
  {
   "cell_type": "code",
   "execution_count": 16,
   "id": "29ef8ab6-9172-47f5-bbcd-55114bde45e4",
   "metadata": {},
   "outputs": [],
   "source": [
    "m = multilabel_confusion_matrix(Y_test, Y_pred)"
   ]
  },
  {
   "cell_type": "code",
   "execution_count": 19,
   "id": "ad9cf39c-b66b-48e2-a568-df7efd3bf3f9",
   "metadata": {},
   "outputs": [
    {
     "name": "stdout",
     "output_type": "stream",
     "text": [
      "[[[682   3]\n",
      "  [ 23  11]]\n",
      "\n",
      " [[699   2]\n",
      "  [ 12   6]]\n",
      "\n",
      " [[666  12]\n",
      "  [ 23  18]]\n",
      "\n",
      " [[557  29]\n",
      "  [ 71  62]]\n",
      "\n",
      " [[420  61]\n",
      "  [116 122]]\n",
      "\n",
      " [[617  14]\n",
      "  [ 53  35]]\n",
      "\n",
      " [[420  48]\n",
      "  [ 96 155]]\n",
      "\n",
      " [[619   5]\n",
      "  [ 59  36]]\n",
      "\n",
      " [[666   8]\n",
      "  [ 30  15]]\n",
      "\n",
      " [[666   6]\n",
      "  [ 27  20]]\n",
      "\n",
      " [[362  86]\n",
      "  [123 148]]]\n"
     ]
    }
   ],
   "source": [
    "print(m)"
   ]
  },
  {
   "cell_type": "code",
   "execution_count": 32,
   "id": "07da62b4-39a2-48fe-bba9-27765dc4e10e",
   "metadata": {},
   "outputs": [
    {
     "data": {
      "text/plain": [
       "array([0.78571429, 0.75      , 0.6       , 0.68131868, 0.66666667,\n",
       "       0.71428571, 0.7635468 , 0.87804878, 0.65217391, 0.76923077,\n",
       "       0.63247863])"
      ]
     },
     "execution_count": 32,
     "metadata": {},
     "output_type": "execute_result"
    }
   ],
   "source": [
    "precision = np.array([x[1,1]/(x[1,1]+x[0,1]) for x in m])\n",
    "precision"
   ]
  },
  {
   "cell_type": "code",
   "execution_count": 20,
   "id": "2ad024cc-d7ed-4912-8be4-8d1377b75f57",
   "metadata": {},
   "outputs": [
    {
     "name": "stdout",
     "output_type": "stream",
     "text": [
      "628 274 6374 633\n"
     ]
    }
   ],
   "source": [
    "tp = sum(m[:,1,1])\n",
    "fp = sum(m[:,0,1])\n",
    "tn = sum(m[:,0,0])\n",
    "fn = sum(m[:,1,0])\n",
    "print(tp, fp, tn, fn)"
   ]
  },
  {
   "cell_type": "code",
   "execution_count": 24,
   "id": "83cb81b2-9c55-40cb-85f7-7d658cea0e62",
   "metadata": {},
   "outputs": [
    {
     "data": {
      "text/plain": [
       "0.6962305986696231"
      ]
     },
     "execution_count": 24,
     "metadata": {},
     "output_type": "execute_result"
    }
   ],
   "source": [
    "precision_ovr = tp/(tp+fp)\n",
    "precision_ovr"
   ]
  },
  {
   "cell_type": "code",
   "execution_count": 25,
   "id": "a339634d-0e81-4b44-9db5-f3f5ad84a0be",
   "metadata": {},
   "outputs": [
    {
     "data": {
      "text/plain": [
       "0.4980174464710547"
      ]
     },
     "execution_count": 25,
     "metadata": {},
     "output_type": "execute_result"
    }
   ],
   "source": [
    "recall_ovr = tp/(tp+fn)\n",
    "recall_ovr"
   ]
  },
  {
   "cell_type": "code",
   "execution_count": 29,
   "id": "54356673-760a-4271-9961-4d7475fb99a5",
   "metadata": {},
   "outputs": [
    {
     "data": {
      "text/plain": [
       "0.5806749884419787"
      ]
     },
     "execution_count": 29,
     "metadata": {},
     "output_type": "execute_result"
    }
   ],
   "source": [
    "f1_ovr = 2 *precision_ovr*recall_ovr/(precision_ovr+recall_ovr)\n",
    "f1_ovr"
   ]
  },
  {
   "cell_type": "code",
   "execution_count": 31,
   "id": "6929c13d-692a-469a-8811-1a41a30e127a",
   "metadata": {},
   "outputs": [
    {
     "data": {
      "text/plain": [
       "array([0.32352941, 0.33333333, 0.43902439, 0.46616541, 0.51260504,\n",
       "       0.39772727, 0.61752988, 0.37894737, 0.33333333, 0.42553191,\n",
       "       0.54612546])"
      ]
     },
     "execution_count": 31,
     "metadata": {},
     "output_type": "execute_result"
    }
   ],
   "source": [
    "recall = np.array([x[1,1]/(x[1,1]+x[1,0]) for x in m])\n",
    "recall"
   ]
  },
  {
   "cell_type": "code",
   "execution_count": 33,
   "id": "d4e4247c-fc24-43ff-94df-817c21e7d90c",
   "metadata": {},
   "outputs": [
    {
     "data": {
      "text/plain": [
       "array([0.45833333, 0.46153846, 0.50704225, 0.55357143, 0.57957245,\n",
       "       0.51094891, 0.68281938, 0.52941176, 0.44117647, 0.54794521,\n",
       "       0.58613861])"
      ]
     },
     "execution_count": 33,
     "metadata": {},
     "output_type": "execute_result"
    }
   ],
   "source": [
    "f1 = 2*precision*recall/(precision+recall)\n",
    "f1"
   ]
  },
  {
   "cell_type": "code",
   "execution_count": null,
   "id": "670e432c-73f4-4519-8abf-bf5db7ee810b",
   "metadata": {},
   "outputs": [],
   "source": []
  }
 ],
 "metadata": {
  "kernelspec": {
   "display_name": "Python 3 (ipykernel)",
   "language": "python",
   "name": "python3"
  },
  "language_info": {
   "codemirror_mode": {
    "name": "ipython",
    "version": 3
   },
   "file_extension": ".py",
   "mimetype": "text/x-python",
   "name": "python",
   "nbconvert_exporter": "python",
   "pygments_lexer": "ipython3",
   "version": "3.10.11"
  }
 },
 "nbformat": 4,
 "nbformat_minor": 5
}
