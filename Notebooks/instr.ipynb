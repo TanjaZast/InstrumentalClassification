{
 "cells": [
  {
   "cell_type": "code",
   "execution_count": 17,
   "id": "7cf460e5-3d48-40c3-9143-92a18bf2a926",
   "metadata": {},
   "outputs": [],
   "source": [
    "import numpy as np"
   ]
  },
  {
   "cell_type": "code",
   "execution_count": 21,
   "id": "5aaf0bb9-2de8-412d-9af1-fb7052ca02aa",
   "metadata": {},
   "outputs": [],
   "source": [
    "x = np.load('Part1.npy')\n",
    "Y_t = np.load('train.npy/y_train.npy')\n",
    "#X_train = (x-np.min(x))/(np.max(x)-np.min(x))\n",
    "xt = np.load('Part2.npy')\n",
    "Y_te = np.load('test.npy/Y_Test.npy')\n",
    "#X_test = (xt-np.min(xt))/(np.max(xt)-np.min(xt))\n",
    "x_add = np.load('Part3.npy')\n",
    "y_add = np.load('additional.npy/Y_additional.npy')\n",
    "#x_add = (x_add-np.min(x_add))/(np.max(x_add)-np.min(x_add))\n",
    "Y = np.concatenate((Y_t, Y_te, y_add))\n",
    "X = np.concatenate((x, xt, x_add))"
   ]
  },
  {
   "cell_type": "code",
   "execution_count": 22,
   "id": "861eac8c-5d44-4680-8d5c-faa4c0d5281f",
   "metadata": {},
   "outputs": [
    {
     "data": {
      "text/plain": [
       "(2874, 11)"
      ]
     },
     "execution_count": 22,
     "metadata": {},
     "output_type": "execute_result"
    }
   ],
   "source": [
    "Y.shape"
   ]
  },
  {
   "cell_type": "code",
   "execution_count": 26,
   "id": "6281a18a-8b5f-4335-aa36-6477f820b3e4",
   "metadata": {},
   "outputs": [],
   "source": [
    "a = np.count_nonzero(Y, axis=0)"
   ]
  },
  {
   "cell_type": "code",
   "execution_count": 28,
   "id": "710399f8-7531-41f5-a9ef-4bcefb580faf",
   "metadata": {},
   "outputs": [
    {
     "data": {
      "text/plain": [
       "array([ 111,   62,  163,  535,  942,  361,  995,  326,  167,  211, 1044],\n",
       "      dtype=int64)"
      ]
     },
     "execution_count": 28,
     "metadata": {},
     "output_type": "execute_result"
    }
   ],
   "source": [
    "a"
   ]
  },
  {
   "cell_type": "code",
   "execution_count": null,
   "id": "ef001e67-0bc5-4f5e-91c1-282031ad576e",
   "metadata": {},
   "outputs": [],
   "source": []
  }
 ],
 "metadata": {
  "kernelspec": {
   "display_name": "Python 3 (ipykernel)",
   "language": "python",
   "name": "python3"
  },
  "language_info": {
   "codemirror_mode": {
    "name": "ipython",
    "version": 3
   },
   "file_extension": ".py",
   "mimetype": "text/x-python",
   "name": "python",
   "nbconvert_exporter": "python",
   "pygments_lexer": "ipython3",
   "version": "3.10.3"
  }
 },
 "nbformat": 4,
 "nbformat_minor": 5
}
